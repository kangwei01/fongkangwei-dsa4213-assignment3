{
 "cells": [
  {
   "cell_type": "markdown",
   "id": "559c3a64-afa1-41a3-a15d-8e0a0d3215fc",
   "metadata": {},
   "source": [
    "# 1. Setup"
   ]
  },
  {
   "cell_type": "code",
   "execution_count": 1,
   "id": "1c23790f-dfd5-43b1-8a9b-c96c3d248cc3",
   "metadata": {},
   "outputs": [
    {
     "name": "stdout",
     "output_type": "stream",
     "text": [
      "Note: you may need to restart the kernel to use updated packages.\n"
     ]
    }
   ],
   "source": [
    "# ---------------------------------------------------------------\n",
    "# STEP 1: Install stable package versions.\n",
    "# ---------------------------------------------------------------\n",
    "%pip install -q \"torch>=2.2.0\" \"transformers>=4.57.0\" \"datasets>=2.19.0\" \\\n",
    "               \"evaluate>=0.4.2\" \"peft>=0.11.1\" scikit-learn matplotlib pandas psutil"
   ]
  },
  {
   "cell_type": "markdown",
   "id": "ac777533-8462-4058-9127-0c6a364807ae",
   "metadata": {},
   "source": [
    "# 2. Imports and Profiling Helpers"
   ]
  },
  {
   "cell_type": "code",
   "execution_count": 2,
   "id": "e4698d40-df04-4382-8c63-36859495d813",
   "metadata": {},
   "outputs": [
    {
     "name": "stdout",
     "output_type": "stream",
     "text": [
      "✅ Using device: mps\n"
     ]
    }
   ],
   "source": [
    "# ---------------------------------------------------------------\n",
    "# STEP 2: Imports, reproducibility, and device setup.\n",
    "# ---------------------------------------------------------------\n",
    "import os, time, itertools, random, json\n",
    "import numpy as np\n",
    "import pandas as pd\n",
    "import matplotlib.pyplot as plt\n",
    "import torch\n",
    "import os, time, threading, psutil, contextlib\n",
    "from datasets import load_dataset, DatasetDict\n",
    "import evaluate\n",
    "from sklearn.metrics import classification_report, confusion_matrix, ConfusionMatrixDisplay\n",
    "\n",
    "from transformers import (\n",
    "    AutoTokenizer,\n",
    "    AutoModelForSequenceClassification,\n",
    "    TrainingArguments,\n",
    "    Trainer,\n",
    ")\n",
    "\n",
    "from peft import LoraConfig, get_peft_model\n",
    "\n",
    "# Reproducibility\n",
    "SEED = 42\n",
    "random.seed(SEED); np.random.seed(SEED); torch.manual_seed(SEED)\n",
    "if torch.cuda.is_available():\n",
    "    torch.cuda.manual_seed_all(SEED)\n",
    "\n",
    "# Prefer Apple's Metal (MPS); fallback to CPU if unavailable\n",
    "DEVICE = \"mps\" if torch.backends.mps.is_available() else (\"cuda\" if torch.cuda.is_available() else \"cpu\")\n",
    "print(\"✅ Using device:\", DEVICE)\n",
    "\n",
    "\n",
    "# ---------------------------------------------------------------\n",
    "# Profiling helpers: wall-clock time + peak memory\n",
    "# - On CUDA: we record true VRAM (max_memory_allocated)\n",
    "# - On MPS/CPU: we record process RSS peak (GB) via psutil sampler\n",
    "# ---------------------------------------------------------------\n",
    "\n",
    "def _rss_sampler(stop_event, interval, peaks_list):\n",
    "    \"\"\"Background sampler to track process RSS and record the peak.\"\"\"\n",
    "    proc = psutil.Process(os.getpid())\n",
    "    peak = 0\n",
    "    while not stop_event.is_set():\n",
    "        try:\n",
    "            rss = proc.memory_info().rss  # bytes\n",
    "            if rss > peak:\n",
    "                peak = rss\n",
    "        except Exception:\n",
    "            pass\n",
    "        time.sleep(interval)\n",
    "    peaks_list.append(peak)\n",
    "\n",
    "@contextlib.contextmanager\n",
    "def profile_run(device: str, sample_interval: float = 0.25):\n",
    "    \"\"\"\n",
    "    Context manager that measures wall time and peak memory.\n",
    "    Yields a dict that gets filled with: time_s, peak_mem_gb, (optionally) peak_vram_gb.\n",
    "    \"\"\"\n",
    "    stats = {\"time_s\": None, \"peak_mem_gb\": None, \"peak_vram_gb\": None}\n",
    "    stop_evt = threading.Event()\n",
    "    peaks = []\n",
    "\n",
    "    # CUDA VRAM peak reset\n",
    "    if torch.cuda.is_available() and device.startswith(\"cuda\"):\n",
    "        torch.cuda.reset_peak_memory_stats()\n",
    "\n",
    "    # Start RSS sampler for all backends\n",
    "    sampler = threading.Thread(target=_rss_sampler, args=(stop_evt, sample_interval, peaks), daemon=True)\n",
    "    sampler.start()\n",
    "\n",
    "    t0 = time.time()\n",
    "    try:\n",
    "        yield stats\n",
    "    finally:\n",
    "        # Synchronize device to flush kernels before stopping timers/memory reads\n",
    "        try:\n",
    "            if device.startswith(\"cuda\"):\n",
    "                torch.cuda.synchronize()\n",
    "            elif device == \"mps\":\n",
    "                torch.mps.synchronize()\n",
    "        except Exception:\n",
    "            pass\n",
    "\n",
    "        stats[\"time_s\"] = time.time() - t0\n",
    "\n",
    "        # Stop RSS sampler and compute peak RSS (GB)\n",
    "        stop_evt.set()\n",
    "        sampler.join(timeout=2)\n",
    "        peak_rss = max(peaks) if peaks else 0\n",
    "        stats[\"peak_mem_gb\"] = peak_rss / (1024**3)\n",
    "\n",
    "        # CUDA VRAM (GB)\n",
    "        if torch.cuda.is_available() and device.startswith(\"cuda\"):\n",
    "            stats[\"peak_vram_gb\"] = torch.cuda.max_memory_allocated() / (1024**3)\n"
   ]
  },
  {
   "cell_type": "markdown",
   "id": "26d2b2d5-5ce7-4b52-aa58-c64ddfe079b9",
   "metadata": {},
   "source": [
    "# 3. Load Dataset"
   ]
  },
  {
   "cell_type": "code",
   "execution_count": 3,
   "id": "76bfb02a-72dc-4cc3-8c7a-dbe946119c59",
   "metadata": {},
   "outputs": [
    {
     "name": "stdout",
     "output_type": "stream",
     "text": [
      "\n",
      "Example 1\n",
      "Text: With these people faking so many shots, using old footage, and gassing animals to get them out, not to mention that some of the scenes were filmed on a created set with actors, what's to believe? Old film of countries is nice, but the animal abuse and degradation of natives is painful to watch in th ...\n",
      "Label: negative\n",
      "\n",
      "Example 2\n",
      "Text: I don't know the stars, or modern Chinese teenage music - but I do know a thoroughly entertaining movie when I see one.<br /><br />Kung Fu Dunk is pure Hollywood in its values - it's played for laughs, for love, and is a great blend of Kung Fu and basketball.<br /><br />Everybody looks like they had ...\n",
      "Label: positive\n",
      "\n",
      "Example 3\n",
      "Text: Having lived in Ontario my whole life, in the same town that Marlene Moore grew up in, I've heard stories of her from my parents, grandparents and family members. So when I found out that they would be filming a movie about her, and that the beginning would be shot on my street, and her house quite  ...\n",
      "Label: positive\n",
      "\n",
      "Label distribution (train): {0: 11257, 1: 11243}\n",
      "Label distribution (val):    {0: 1243, 1: 1257}\n",
      "Label distribution (test):   {0: 12500, 1: 12500}\n"
     ]
    }
   ],
   "source": [
    "# ---------------------------------------------------------------\n",
    "# STEP 3: Load IMDb dataset and create a validation split.\n",
    "# IMDb: ~25k train, ~25k test. Split 10% of train for validation.\n",
    "# Labels: 0 = negative, 1 = positive (binary classification).\n",
    "# ---------------------------------------------------------------\n",
    "raw = load_dataset(\"imdb\")\n",
    "\n",
    "# Create validation split (10% of original train)\n",
    "split = raw[\"train\"].train_test_split(test_size=0.1, seed=SEED)\n",
    "dataset = DatasetDict({\n",
    "    \"train\": split[\"train\"],\n",
    "    \"validation\": split[\"test\"],\n",
    "    \"test\": raw[\"test\"]\n",
    "})\n",
    "dataset\n",
    "\n",
    "# ---------------------------------------------------------------\n",
    "# STEP 3b: Quick preview and label distribution.\n",
    "# ---------------------------------------------------------------\n",
    "label_map = {0: \"negative\", 1: \"positive\"}\n",
    "\n",
    "for i in range(3):\n",
    "    ex = dataset[\"train\"][i]\n",
    "    print(f\"\\nExample {i+1}\")\n",
    "    print(\"Text:\", ex[\"text\"][:300].replace(\"\\n\",\" \"), \"...\")\n",
    "    print(\"Label:\", label_map[int(ex[\"label\"])])\n",
    "\n",
    "def counts(labels):\n",
    "    arr = np.array(labels)\n",
    "    return {0:int((arr==0).sum()), 1:int((arr==1).sum())}\n",
    "\n",
    "print(\"\\nLabel distribution (train):\", counts(dataset[\"train\"][\"label\"]))\n",
    "print(\"Label distribution (val):   \", counts(dataset[\"validation\"][\"label\"]))\n",
    "print(\"Label distribution (test):  \", counts(dataset[\"test\"][\"label\"]))\n",
    "\n",
    "# Take a smaller subset for local compute limitations\n",
    "dataset[\"train\"] = dataset[\"train\"].shuffle(seed=SEED).select(range(4000))\n",
    "dataset[\"validation\"] = dataset[\"validation\"].shuffle(seed=SEED).select(range(1000))\n",
    "dataset[\"test\"] = dataset[\"test\"].shuffle(seed=SEED).select(range(1000))"
   ]
  },
  {
   "cell_type": "markdown",
   "id": "cca6c806-489b-4dc6-a69e-a3480cbb7a1c",
   "metadata": {},
   "source": [
    "# 4. Tokenization"
   ]
  },
  {
   "cell_type": "code",
   "execution_count": 4,
   "id": "18641074-a0a3-4187-8685-a1b17a47c511",
   "metadata": {},
   "outputs": [
    {
     "data": {
      "application/vnd.jupyter.widget-view+json": {
       "model_id": "a77174fb9ad84ae9a8787936b88882aa",
       "version_major": 2,
       "version_minor": 0
      },
      "text/plain": [
       "Map:   0%|          | 0/4000 [00:00<?, ? examples/s]"
      ]
     },
     "metadata": {},
     "output_type": "display_data"
    },
    {
     "data": {
      "application/vnd.jupyter.widget-view+json": {
       "model_id": "00579da7d4954def81e8843d663b7f47",
       "version_major": 2,
       "version_minor": 0
      },
      "text/plain": [
       "Map:   0%|          | 0/1000 [00:00<?, ? examples/s]"
      ]
     },
     "metadata": {},
     "output_type": "display_data"
    },
    {
     "data": {
      "application/vnd.jupyter.widget-view+json": {
       "model_id": "fc7deb34cf234135b836e3691fff94ad",
       "version_major": 2,
       "version_minor": 0
      },
      "text/plain": [
       "Map:   0%|          | 0/1000 [00:00<?, ? examples/s]"
      ]
     },
     "metadata": {},
     "output_type": "display_data"
    },
    {
     "data": {
      "text/plain": [
       "DatasetDict({\n",
       "    train: Dataset({\n",
       "        features: ['label', 'input_ids', 'attention_mask'],\n",
       "        num_rows: 4000\n",
       "    })\n",
       "    validation: Dataset({\n",
       "        features: ['label', 'input_ids', 'attention_mask'],\n",
       "        num_rows: 1000\n",
       "    })\n",
       "    test: Dataset({\n",
       "        features: ['label', 'input_ids', 'attention_mask'],\n",
       "        num_rows: 1000\n",
       "    })\n",
       "})"
      ]
     },
     "execution_count": 4,
     "metadata": {},
     "output_type": "execute_result"
    }
   ],
   "source": [
    "# ---------------------------------------------------------------\n",
    "# STEP 4: Tokenize reviews for DistilBERT.\n",
    "# - IMDb reviews can be long; max_length=256 balances speed & quality.\n",
    "# - Padding to max_length stabilizes batching on MPS.\n",
    "# ---------------------------------------------------------------\n",
    "MODEL_NAME = \"distilbert-base-uncased\"\n",
    "MAX_LEN = 256\n",
    "\n",
    "tokenizer = AutoTokenizer.from_pretrained(MODEL_NAME, use_fast=True)\n",
    "\n",
    "def tokenize(batch):\n",
    "    return tokenizer(\n",
    "        batch[\"text\"],\n",
    "        truncation=True,\n",
    "        padding=\"max_length\",\n",
    "        max_length=MAX_LEN,\n",
    "    )\n",
    "\n",
    "tokenized = dataset.map(tokenize, batched=True).remove_columns([\"text\"])\n",
    "tokenized.set_format(\"torch\")\n",
    "tokenized"
   ]
  },
  {
   "cell_type": "markdown",
   "id": "86c69702-0300-4a10-9189-f5f11782f16d",
   "metadata": {},
   "source": [
    "# 5. Metrics (Accuracy + F1)"
   ]
  },
  {
   "cell_type": "code",
   "execution_count": 5,
   "id": "427a8071-03d0-4efb-920d-d0394e9da329",
   "metadata": {},
   "outputs": [],
   "source": [
    "# ---------------------------------------------------------------\n",
    "# STEP 5: Define evaluation metrics.\n",
    "# - Accuracy: overall correctness.\n",
    "# - F1 (weighted): balances precision/recall and accounts for class imbalance.\n",
    "# ---------------------------------------------------------------\n",
    "acc_metric = evaluate.load(\"accuracy\")\n",
    "f1_metric  = evaluate.load(\"f1\")\n",
    "\n",
    "def compute_metrics(eval_pred):\n",
    "    logits, labels = eval_pred\n",
    "    preds = np.argmax(logits, axis=1)\n",
    "    acc = acc_metric.compute(predictions=preds, references=labels)[\"accuracy\"]\n",
    "    f1  = f1_metric.compute(predictions=preds, references=labels, average=\"weighted\")[\"f1\"]\n",
    "    return {\"accuracy\": acc, \"f1\": f1}\n"
   ]
  },
  {
   "cell_type": "markdown",
   "id": "36667742-7769-4ca7-87c7-5f47e0211f09",
   "metadata": {},
   "source": [
    "# 6. Hyperparameter Tuning (Full)"
   ]
  },
  {
   "cell_type": "code",
   "execution_count": 6,
   "id": "4318c388-392e-4d2e-a8a0-f419f2cb7ddd",
   "metadata": {},
   "outputs": [
    {
     "name": "stdout",
     "output_type": "stream",
     "text": [
      "\n",
      "⚙️ Full-FT trial  lr=2e-05, bs=8, epochs=2\n"
     ]
    },
    {
     "name": "stderr",
     "output_type": "stream",
     "text": [
      "/Users/fongkangwei/nus/ay25_26/dsa4213/envs/transformer/lib/python3.13/site-packages/transformers/training_args.py:2298: UserWarning: `use_mps_device` is deprecated and will be removed in version 5.0 of 🤗 Transformers. `mps` device will be used by default if available similar to the way `cuda` device is used.Therefore, no action from user is required. \n",
      "  warnings.warn(\n",
      "Some weights of DistilBertForSequenceClassification were not initialized from the model checkpoint at distilbert-base-uncased and are newly initialized: ['classifier.bias', 'classifier.weight', 'pre_classifier.bias', 'pre_classifier.weight']\n",
      "You should probably TRAIN this model on a down-stream task to be able to use it for predictions and inference.\n",
      "/var/folders/6w/v4mx5hzn5z35dk5rqf7nc9nh0000gn/T/ipykernel_1199/266861649.py:35: FutureWarning: `tokenizer` is deprecated and will be removed in version 5.0.0 for `Trainer.__init__`. Use `processing_class` instead.\n",
      "  trainer = Trainer(\n",
      "/Users/fongkangwei/nus/ay25_26/dsa4213/envs/transformer/lib/python3.13/site-packages/torch/utils/data/dataloader.py:684: UserWarning: 'pin_memory' argument is set as true but not supported on MPS now, then device pinned memory won't be used.\n",
      "  warnings.warn(warn_msg)\n"
     ]
    },
    {
     "data": {
      "text/html": [
       "\n",
       "    <div>\n",
       "      \n",
       "      <progress value='1000' max='1000' style='width:300px; height:20px; vertical-align: middle;'></progress>\n",
       "      [1000/1000 13:35, Epoch 2/2]\n",
       "    </div>\n",
       "    <table border=\"1\" class=\"dataframe\">\n",
       "  <thead>\n",
       " <tr style=\"text-align: left;\">\n",
       "      <th>Epoch</th>\n",
       "      <th>Training Loss</th>\n",
       "      <th>Validation Loss</th>\n",
       "      <th>Accuracy</th>\n",
       "      <th>F1</th>\n",
       "    </tr>\n",
       "  </thead>\n",
       "  <tbody>\n",
       "    <tr>\n",
       "      <td>1</td>\n",
       "      <td>No log</td>\n",
       "      <td>0.307230</td>\n",
       "      <td>0.887000</td>\n",
       "      <td>0.887029</td>\n",
       "    </tr>\n",
       "    <tr>\n",
       "      <td>2</td>\n",
       "      <td>No log</td>\n",
       "      <td>0.361740</td>\n",
       "      <td>0.889000</td>\n",
       "      <td>0.889023</td>\n",
       "    </tr>\n",
       "  </tbody>\n",
       "</table><p>"
      ],
      "text/plain": [
       "<IPython.core.display.HTML object>"
      ]
     },
     "metadata": {},
     "output_type": "display_data"
    },
    {
     "name": "stderr",
     "output_type": "stream",
     "text": [
      "/Users/fongkangwei/nus/ay25_26/dsa4213/envs/transformer/lib/python3.13/site-packages/torch/utils/data/dataloader.py:684: UserWarning: 'pin_memory' argument is set as true but not supported on MPS now, then device pinned memory won't be used.\n",
      "  warnings.warn(warn_msg)\n",
      "/Users/fongkangwei/nus/ay25_26/dsa4213/envs/transformer/lib/python3.13/site-packages/torch/utils/data/dataloader.py:684: UserWarning: 'pin_memory' argument is set as true but not supported on MPS now, then device pinned memory won't be used.\n",
      "  warnings.warn(warn_msg)\n"
     ]
    },
    {
     "data": {
      "text/html": [
       "\n",
       "    <div>\n",
       "      \n",
       "      <progress value='63' max='63' style='width:300px; height:20px; vertical-align: middle;'></progress>\n",
       "      [63/63 00:31]\n",
       "    </div>\n",
       "    "
      ],
      "text/plain": [
       "<IPython.core.display.HTML object>"
      ]
     },
     "metadata": {},
     "output_type": "display_data"
    },
    {
     "name": "stdout",
     "output_type": "stream",
     "text": [
      "\n",
      "⚙️ Full-FT trial  lr=2e-05, bs=8, epochs=3\n"
     ]
    },
    {
     "name": "stderr",
     "output_type": "stream",
     "text": [
      "/Users/fongkangwei/nus/ay25_26/dsa4213/envs/transformer/lib/python3.13/site-packages/transformers/training_args.py:2298: UserWarning: `use_mps_device` is deprecated and will be removed in version 5.0 of 🤗 Transformers. `mps` device will be used by default if available similar to the way `cuda` device is used.Therefore, no action from user is required. \n",
      "  warnings.warn(\n",
      "Some weights of DistilBertForSequenceClassification were not initialized from the model checkpoint at distilbert-base-uncased and are newly initialized: ['classifier.bias', 'classifier.weight', 'pre_classifier.bias', 'pre_classifier.weight']\n",
      "You should probably TRAIN this model on a down-stream task to be able to use it for predictions and inference.\n",
      "/var/folders/6w/v4mx5hzn5z35dk5rqf7nc9nh0000gn/T/ipykernel_1199/266861649.py:35: FutureWarning: `tokenizer` is deprecated and will be removed in version 5.0.0 for `Trainer.__init__`. Use `processing_class` instead.\n",
      "  trainer = Trainer(\n",
      "/Users/fongkangwei/nus/ay25_26/dsa4213/envs/transformer/lib/python3.13/site-packages/torch/utils/data/dataloader.py:684: UserWarning: 'pin_memory' argument is set as true but not supported on MPS now, then device pinned memory won't be used.\n",
      "  warnings.warn(warn_msg)\n"
     ]
    },
    {
     "data": {
      "text/html": [
       "\n",
       "    <div>\n",
       "      \n",
       "      <progress value='1500' max='1500' style='width:300px; height:20px; vertical-align: middle;'></progress>\n",
       "      [1500/1500 19:31, Epoch 3/3]\n",
       "    </div>\n",
       "    <table border=\"1\" class=\"dataframe\">\n",
       "  <thead>\n",
       " <tr style=\"text-align: left;\">\n",
       "      <th>Epoch</th>\n",
       "      <th>Training Loss</th>\n",
       "      <th>Validation Loss</th>\n",
       "      <th>Accuracy</th>\n",
       "      <th>F1</th>\n",
       "    </tr>\n",
       "  </thead>\n",
       "  <tbody>\n",
       "    <tr>\n",
       "      <td>1</td>\n",
       "      <td>No log</td>\n",
       "      <td>0.310849</td>\n",
       "      <td>0.897000</td>\n",
       "      <td>0.897018</td>\n",
       "    </tr>\n",
       "    <tr>\n",
       "      <td>2</td>\n",
       "      <td>No log</td>\n",
       "      <td>0.401553</td>\n",
       "      <td>0.887000</td>\n",
       "      <td>0.886946</td>\n",
       "    </tr>\n",
       "    <tr>\n",
       "      <td>3</td>\n",
       "      <td>No log</td>\n",
       "      <td>0.467366</td>\n",
       "      <td>0.890000</td>\n",
       "      <td>0.890000</td>\n",
       "    </tr>\n",
       "  </tbody>\n",
       "</table><p>"
      ],
      "text/plain": [
       "<IPython.core.display.HTML object>"
      ]
     },
     "metadata": {},
     "output_type": "display_data"
    },
    {
     "name": "stderr",
     "output_type": "stream",
     "text": [
      "/Users/fongkangwei/nus/ay25_26/dsa4213/envs/transformer/lib/python3.13/site-packages/torch/utils/data/dataloader.py:684: UserWarning: 'pin_memory' argument is set as true but not supported on MPS now, then device pinned memory won't be used.\n",
      "  warnings.warn(warn_msg)\n",
      "/Users/fongkangwei/nus/ay25_26/dsa4213/envs/transformer/lib/python3.13/site-packages/torch/utils/data/dataloader.py:684: UserWarning: 'pin_memory' argument is set as true but not supported on MPS now, then device pinned memory won't be used.\n",
      "  warnings.warn(warn_msg)\n",
      "/Users/fongkangwei/nus/ay25_26/dsa4213/envs/transformer/lib/python3.13/site-packages/torch/utils/data/dataloader.py:684: UserWarning: 'pin_memory' argument is set as true but not supported on MPS now, then device pinned memory won't be used.\n",
      "  warnings.warn(warn_msg)\n"
     ]
    },
    {
     "data": {
      "text/html": [
       "\n",
       "    <div>\n",
       "      \n",
       "      <progress value='63' max='63' style='width:300px; height:20px; vertical-align: middle;'></progress>\n",
       "      [63/63 00:24]\n",
       "    </div>\n",
       "    "
      ],
      "text/plain": [
       "<IPython.core.display.HTML object>"
      ]
     },
     "metadata": {},
     "output_type": "display_data"
    },
    {
     "name": "stdout",
     "output_type": "stream",
     "text": [
      "\n",
      "⚙️ Full-FT trial  lr=2e-05, bs=16, epochs=2\n"
     ]
    },
    {
     "name": "stderr",
     "output_type": "stream",
     "text": [
      "/Users/fongkangwei/nus/ay25_26/dsa4213/envs/transformer/lib/python3.13/site-packages/transformers/training_args.py:2298: UserWarning: `use_mps_device` is deprecated and will be removed in version 5.0 of 🤗 Transformers. `mps` device will be used by default if available similar to the way `cuda` device is used.Therefore, no action from user is required. \n",
      "  warnings.warn(\n",
      "Some weights of DistilBertForSequenceClassification were not initialized from the model checkpoint at distilbert-base-uncased and are newly initialized: ['classifier.bias', 'classifier.weight', 'pre_classifier.bias', 'pre_classifier.weight']\n",
      "You should probably TRAIN this model on a down-stream task to be able to use it for predictions and inference.\n",
      "/var/folders/6w/v4mx5hzn5z35dk5rqf7nc9nh0000gn/T/ipykernel_1199/266861649.py:35: FutureWarning: `tokenizer` is deprecated and will be removed in version 5.0.0 for `Trainer.__init__`. Use `processing_class` instead.\n",
      "  trainer = Trainer(\n",
      "/Users/fongkangwei/nus/ay25_26/dsa4213/envs/transformer/lib/python3.13/site-packages/torch/utils/data/dataloader.py:684: UserWarning: 'pin_memory' argument is set as true but not supported on MPS now, then device pinned memory won't be used.\n",
      "  warnings.warn(warn_msg)\n"
     ]
    },
    {
     "data": {
      "text/html": [
       "\n",
       "    <div>\n",
       "      \n",
       "      <progress value='500' max='500' style='width:300px; height:20px; vertical-align: middle;'></progress>\n",
       "      [500/500 13:14, Epoch 2/2]\n",
       "    </div>\n",
       "    <table border=\"1\" class=\"dataframe\">\n",
       "  <thead>\n",
       " <tr style=\"text-align: left;\">\n",
       "      <th>Epoch</th>\n",
       "      <th>Training Loss</th>\n",
       "      <th>Validation Loss</th>\n",
       "      <th>Accuracy</th>\n",
       "      <th>F1</th>\n",
       "    </tr>\n",
       "  </thead>\n",
       "  <tbody>\n",
       "    <tr>\n",
       "      <td>1</td>\n",
       "      <td>No log</td>\n",
       "      <td>0.292962</td>\n",
       "      <td>0.882000</td>\n",
       "      <td>0.881821</td>\n",
       "    </tr>\n",
       "    <tr>\n",
       "      <td>2</td>\n",
       "      <td>No log</td>\n",
       "      <td>0.284302</td>\n",
       "      <td>0.899000</td>\n",
       "      <td>0.898981</td>\n",
       "    </tr>\n",
       "  </tbody>\n",
       "</table><p>"
      ],
      "text/plain": [
       "<IPython.core.display.HTML object>"
      ]
     },
     "metadata": {},
     "output_type": "display_data"
    },
    {
     "name": "stderr",
     "output_type": "stream",
     "text": [
      "/Users/fongkangwei/nus/ay25_26/dsa4213/envs/transformer/lib/python3.13/site-packages/torch/utils/data/dataloader.py:684: UserWarning: 'pin_memory' argument is set as true but not supported on MPS now, then device pinned memory won't be used.\n",
      "  warnings.warn(warn_msg)\n",
      "/Users/fongkangwei/nus/ay25_26/dsa4213/envs/transformer/lib/python3.13/site-packages/torch/utils/data/dataloader.py:684: UserWarning: 'pin_memory' argument is set as true but not supported on MPS now, then device pinned memory won't be used.\n",
      "  warnings.warn(warn_msg)\n"
     ]
    },
    {
     "data": {
      "text/html": [
       "\n",
       "    <div>\n",
       "      \n",
       "      <progress value='32' max='32' style='width:300px; height:20px; vertical-align: middle;'></progress>\n",
       "      [32/32 00:34]\n",
       "    </div>\n",
       "    "
      ],
      "text/plain": [
       "<IPython.core.display.HTML object>"
      ]
     },
     "metadata": {},
     "output_type": "display_data"
    },
    {
     "name": "stdout",
     "output_type": "stream",
     "text": [
      "\n",
      "⚙️ Full-FT trial  lr=2e-05, bs=16, epochs=3\n"
     ]
    },
    {
     "name": "stderr",
     "output_type": "stream",
     "text": [
      "/Users/fongkangwei/nus/ay25_26/dsa4213/envs/transformer/lib/python3.13/site-packages/transformers/training_args.py:2298: UserWarning: `use_mps_device` is deprecated and will be removed in version 5.0 of 🤗 Transformers. `mps` device will be used by default if available similar to the way `cuda` device is used.Therefore, no action from user is required. \n",
      "  warnings.warn(\n",
      "Some weights of DistilBertForSequenceClassification were not initialized from the model checkpoint at distilbert-base-uncased and are newly initialized: ['classifier.bias', 'classifier.weight', 'pre_classifier.bias', 'pre_classifier.weight']\n",
      "You should probably TRAIN this model on a down-stream task to be able to use it for predictions and inference.\n",
      "/var/folders/6w/v4mx5hzn5z35dk5rqf7nc9nh0000gn/T/ipykernel_1199/266861649.py:35: FutureWarning: `tokenizer` is deprecated and will be removed in version 5.0.0 for `Trainer.__init__`. Use `processing_class` instead.\n",
      "  trainer = Trainer(\n",
      "/Users/fongkangwei/nus/ay25_26/dsa4213/envs/transformer/lib/python3.13/site-packages/torch/utils/data/dataloader.py:684: UserWarning: 'pin_memory' argument is set as true but not supported on MPS now, then device pinned memory won't be used.\n",
      "  warnings.warn(warn_msg)\n"
     ]
    },
    {
     "data": {
      "text/html": [
       "\n",
       "    <div>\n",
       "      \n",
       "      <progress value='750' max='750' style='width:300px; height:20px; vertical-align: middle;'></progress>\n",
       "      [750/750 31:37, Epoch 3/3]\n",
       "    </div>\n",
       "    <table border=\"1\" class=\"dataframe\">\n",
       "  <thead>\n",
       " <tr style=\"text-align: left;\">\n",
       "      <th>Epoch</th>\n",
       "      <th>Training Loss</th>\n",
       "      <th>Validation Loss</th>\n",
       "      <th>Accuracy</th>\n",
       "      <th>F1</th>\n",
       "    </tr>\n",
       "  </thead>\n",
       "  <tbody>\n",
       "    <tr>\n",
       "      <td>1</td>\n",
       "      <td>No log</td>\n",
       "      <td>0.293588</td>\n",
       "      <td>0.873000</td>\n",
       "      <td>0.872525</td>\n",
       "    </tr>\n",
       "    <tr>\n",
       "      <td>2</td>\n",
       "      <td>No log</td>\n",
       "      <td>0.296554</td>\n",
       "      <td>0.894000</td>\n",
       "      <td>0.893840</td>\n",
       "    </tr>\n",
       "    <tr>\n",
       "      <td>3</td>\n",
       "      <td>No log</td>\n",
       "      <td>0.350356</td>\n",
       "      <td>0.892000</td>\n",
       "      <td>0.891965</td>\n",
       "    </tr>\n",
       "  </tbody>\n",
       "</table><p>"
      ],
      "text/plain": [
       "<IPython.core.display.HTML object>"
      ]
     },
     "metadata": {},
     "output_type": "display_data"
    },
    {
     "name": "stderr",
     "output_type": "stream",
     "text": [
      "/Users/fongkangwei/nus/ay25_26/dsa4213/envs/transformer/lib/python3.13/site-packages/torch/utils/data/dataloader.py:684: UserWarning: 'pin_memory' argument is set as true but not supported on MPS now, then device pinned memory won't be used.\n",
      "  warnings.warn(warn_msg)\n",
      "/Users/fongkangwei/nus/ay25_26/dsa4213/envs/transformer/lib/python3.13/site-packages/torch/utils/data/dataloader.py:684: UserWarning: 'pin_memory' argument is set as true but not supported on MPS now, then device pinned memory won't be used.\n",
      "  warnings.warn(warn_msg)\n",
      "/Users/fongkangwei/nus/ay25_26/dsa4213/envs/transformer/lib/python3.13/site-packages/torch/utils/data/dataloader.py:684: UserWarning: 'pin_memory' argument is set as true but not supported on MPS now, then device pinned memory won't be used.\n",
      "  warnings.warn(warn_msg)\n"
     ]
    },
    {
     "data": {
      "text/html": [
       "\n",
       "    <div>\n",
       "      \n",
       "      <progress value='32' max='32' style='width:300px; height:20px; vertical-align: middle;'></progress>\n",
       "      [32/32 00:35]\n",
       "    </div>\n",
       "    "
      ],
      "text/plain": [
       "<IPython.core.display.HTML object>"
      ]
     },
     "metadata": {},
     "output_type": "display_data"
    },
    {
     "name": "stdout",
     "output_type": "stream",
     "text": [
      "\n",
      "⚙️ Full-FT trial  lr=3e-05, bs=8, epochs=2\n"
     ]
    },
    {
     "name": "stderr",
     "output_type": "stream",
     "text": [
      "/Users/fongkangwei/nus/ay25_26/dsa4213/envs/transformer/lib/python3.13/site-packages/transformers/training_args.py:2298: UserWarning: `use_mps_device` is deprecated and will be removed in version 5.0 of 🤗 Transformers. `mps` device will be used by default if available similar to the way `cuda` device is used.Therefore, no action from user is required. \n",
      "  warnings.warn(\n",
      "Some weights of DistilBertForSequenceClassification were not initialized from the model checkpoint at distilbert-base-uncased and are newly initialized: ['classifier.bias', 'classifier.weight', 'pre_classifier.bias', 'pre_classifier.weight']\n",
      "You should probably TRAIN this model on a down-stream task to be able to use it for predictions and inference.\n",
      "/var/folders/6w/v4mx5hzn5z35dk5rqf7nc9nh0000gn/T/ipykernel_1199/266861649.py:35: FutureWarning: `tokenizer` is deprecated and will be removed in version 5.0.0 for `Trainer.__init__`. Use `processing_class` instead.\n",
      "  trainer = Trainer(\n",
      "/Users/fongkangwei/nus/ay25_26/dsa4213/envs/transformer/lib/python3.13/site-packages/torch/utils/data/dataloader.py:684: UserWarning: 'pin_memory' argument is set as true but not supported on MPS now, then device pinned memory won't be used.\n",
      "  warnings.warn(warn_msg)\n"
     ]
    },
    {
     "data": {
      "text/html": [
       "\n",
       "    <div>\n",
       "      \n",
       "      <progress value='1000' max='1000' style='width:300px; height:20px; vertical-align: middle;'></progress>\n",
       "      [1000/1000 16:19, Epoch 2/2]\n",
       "    </div>\n",
       "    <table border=\"1\" class=\"dataframe\">\n",
       "  <thead>\n",
       " <tr style=\"text-align: left;\">\n",
       "      <th>Epoch</th>\n",
       "      <th>Training Loss</th>\n",
       "      <th>Validation Loss</th>\n",
       "      <th>Accuracy</th>\n",
       "      <th>F1</th>\n",
       "    </tr>\n",
       "  </thead>\n",
       "  <tbody>\n",
       "    <tr>\n",
       "      <td>1</td>\n",
       "      <td>No log</td>\n",
       "      <td>0.296314</td>\n",
       "      <td>0.891000</td>\n",
       "      <td>0.890980</td>\n",
       "    </tr>\n",
       "    <tr>\n",
       "      <td>2</td>\n",
       "      <td>No log</td>\n",
       "      <td>0.386979</td>\n",
       "      <td>0.888000</td>\n",
       "      <td>0.888025</td>\n",
       "    </tr>\n",
       "  </tbody>\n",
       "</table><p>"
      ],
      "text/plain": [
       "<IPython.core.display.HTML object>"
      ]
     },
     "metadata": {},
     "output_type": "display_data"
    },
    {
     "name": "stderr",
     "output_type": "stream",
     "text": [
      "/Users/fongkangwei/nus/ay25_26/dsa4213/envs/transformer/lib/python3.13/site-packages/torch/utils/data/dataloader.py:684: UserWarning: 'pin_memory' argument is set as true but not supported on MPS now, then device pinned memory won't be used.\n",
      "  warnings.warn(warn_msg)\n",
      "/Users/fongkangwei/nus/ay25_26/dsa4213/envs/transformer/lib/python3.13/site-packages/torch/utils/data/dataloader.py:684: UserWarning: 'pin_memory' argument is set as true but not supported on MPS now, then device pinned memory won't be used.\n",
      "  warnings.warn(warn_msg)\n"
     ]
    },
    {
     "data": {
      "text/html": [
       "\n",
       "    <div>\n",
       "      \n",
       "      <progress value='63' max='63' style='width:300px; height:20px; vertical-align: middle;'></progress>\n",
       "      [63/63 00:29]\n",
       "    </div>\n",
       "    "
      ],
      "text/plain": [
       "<IPython.core.display.HTML object>"
      ]
     },
     "metadata": {},
     "output_type": "display_data"
    },
    {
     "name": "stdout",
     "output_type": "stream",
     "text": [
      "\n",
      "⚙️ Full-FT trial  lr=3e-05, bs=8, epochs=3\n"
     ]
    },
    {
     "name": "stderr",
     "output_type": "stream",
     "text": [
      "/Users/fongkangwei/nus/ay25_26/dsa4213/envs/transformer/lib/python3.13/site-packages/transformers/training_args.py:2298: UserWarning: `use_mps_device` is deprecated and will be removed in version 5.0 of 🤗 Transformers. `mps` device will be used by default if available similar to the way `cuda` device is used.Therefore, no action from user is required. \n",
      "  warnings.warn(\n",
      "Some weights of DistilBertForSequenceClassification were not initialized from the model checkpoint at distilbert-base-uncased and are newly initialized: ['classifier.bias', 'classifier.weight', 'pre_classifier.bias', 'pre_classifier.weight']\n",
      "You should probably TRAIN this model on a down-stream task to be able to use it for predictions and inference.\n",
      "/var/folders/6w/v4mx5hzn5z35dk5rqf7nc9nh0000gn/T/ipykernel_1199/266861649.py:35: FutureWarning: `tokenizer` is deprecated and will be removed in version 5.0.0 for `Trainer.__init__`. Use `processing_class` instead.\n",
      "  trainer = Trainer(\n",
      "/Users/fongkangwei/nus/ay25_26/dsa4213/envs/transformer/lib/python3.13/site-packages/torch/utils/data/dataloader.py:684: UserWarning: 'pin_memory' argument is set as true but not supported on MPS now, then device pinned memory won't be used.\n",
      "  warnings.warn(warn_msg)\n"
     ]
    },
    {
     "data": {
      "text/html": [
       "\n",
       "    <div>\n",
       "      \n",
       "      <progress value='1500' max='1500' style='width:300px; height:20px; vertical-align: middle;'></progress>\n",
       "      [1500/1500 18:46, Epoch 3/3]\n",
       "    </div>\n",
       "    <table border=\"1\" class=\"dataframe\">\n",
       "  <thead>\n",
       " <tr style=\"text-align: left;\">\n",
       "      <th>Epoch</th>\n",
       "      <th>Training Loss</th>\n",
       "      <th>Validation Loss</th>\n",
       "      <th>Accuracy</th>\n",
       "      <th>F1</th>\n",
       "    </tr>\n",
       "  </thead>\n",
       "  <tbody>\n",
       "    <tr>\n",
       "      <td>1</td>\n",
       "      <td>No log</td>\n",
       "      <td>0.337037</td>\n",
       "      <td>0.882000</td>\n",
       "      <td>0.881859</td>\n",
       "    </tr>\n",
       "    <tr>\n",
       "      <td>2</td>\n",
       "      <td>No log</td>\n",
       "      <td>0.446930</td>\n",
       "      <td>0.886000</td>\n",
       "      <td>0.885926</td>\n",
       "    </tr>\n",
       "    <tr>\n",
       "      <td>3</td>\n",
       "      <td>No log</td>\n",
       "      <td>0.535479</td>\n",
       "      <td>0.881000</td>\n",
       "      <td>0.881004</td>\n",
       "    </tr>\n",
       "  </tbody>\n",
       "</table><p>"
      ],
      "text/plain": [
       "<IPython.core.display.HTML object>"
      ]
     },
     "metadata": {},
     "output_type": "display_data"
    },
    {
     "name": "stderr",
     "output_type": "stream",
     "text": [
      "/Users/fongkangwei/nus/ay25_26/dsa4213/envs/transformer/lib/python3.13/site-packages/torch/utils/data/dataloader.py:684: UserWarning: 'pin_memory' argument is set as true but not supported on MPS now, then device pinned memory won't be used.\n",
      "  warnings.warn(warn_msg)\n",
      "/Users/fongkangwei/nus/ay25_26/dsa4213/envs/transformer/lib/python3.13/site-packages/torch/utils/data/dataloader.py:684: UserWarning: 'pin_memory' argument is set as true but not supported on MPS now, then device pinned memory won't be used.\n",
      "  warnings.warn(warn_msg)\n",
      "/Users/fongkangwei/nus/ay25_26/dsa4213/envs/transformer/lib/python3.13/site-packages/torch/utils/data/dataloader.py:684: UserWarning: 'pin_memory' argument is set as true but not supported on MPS now, then device pinned memory won't be used.\n",
      "  warnings.warn(warn_msg)\n"
     ]
    },
    {
     "data": {
      "text/html": [
       "\n",
       "    <div>\n",
       "      \n",
       "      <progress value='63' max='63' style='width:300px; height:20px; vertical-align: middle;'></progress>\n",
       "      [63/63 00:21]\n",
       "    </div>\n",
       "    "
      ],
      "text/plain": [
       "<IPython.core.display.HTML object>"
      ]
     },
     "metadata": {},
     "output_type": "display_data"
    },
    {
     "name": "stdout",
     "output_type": "stream",
     "text": [
      "\n",
      "⚙️ Full-FT trial  lr=3e-05, bs=16, epochs=2\n"
     ]
    },
    {
     "name": "stderr",
     "output_type": "stream",
     "text": [
      "/Users/fongkangwei/nus/ay25_26/dsa4213/envs/transformer/lib/python3.13/site-packages/transformers/training_args.py:2298: UserWarning: `use_mps_device` is deprecated and will be removed in version 5.0 of 🤗 Transformers. `mps` device will be used by default if available similar to the way `cuda` device is used.Therefore, no action from user is required. \n",
      "  warnings.warn(\n",
      "Some weights of DistilBertForSequenceClassification were not initialized from the model checkpoint at distilbert-base-uncased and are newly initialized: ['classifier.bias', 'classifier.weight', 'pre_classifier.bias', 'pre_classifier.weight']\n",
      "You should probably TRAIN this model on a down-stream task to be able to use it for predictions and inference.\n",
      "/var/folders/6w/v4mx5hzn5z35dk5rqf7nc9nh0000gn/T/ipykernel_1199/266861649.py:35: FutureWarning: `tokenizer` is deprecated and will be removed in version 5.0.0 for `Trainer.__init__`. Use `processing_class` instead.\n",
      "  trainer = Trainer(\n",
      "/Users/fongkangwei/nus/ay25_26/dsa4213/envs/transformer/lib/python3.13/site-packages/torch/utils/data/dataloader.py:684: UserWarning: 'pin_memory' argument is set as true but not supported on MPS now, then device pinned memory won't be used.\n",
      "  warnings.warn(warn_msg)\n"
     ]
    },
    {
     "data": {
      "text/html": [
       "\n",
       "    <div>\n",
       "      \n",
       "      <progress value='500' max='500' style='width:300px; height:20px; vertical-align: middle;'></progress>\n",
       "      [500/500 11:15, Epoch 2/2]\n",
       "    </div>\n",
       "    <table border=\"1\" class=\"dataframe\">\n",
       "  <thead>\n",
       " <tr style=\"text-align: left;\">\n",
       "      <th>Epoch</th>\n",
       "      <th>Training Loss</th>\n",
       "      <th>Validation Loss</th>\n",
       "      <th>Accuracy</th>\n",
       "      <th>F1</th>\n",
       "    </tr>\n",
       "  </thead>\n",
       "  <tbody>\n",
       "    <tr>\n",
       "      <td>1</td>\n",
       "      <td>No log</td>\n",
       "      <td>0.303482</td>\n",
       "      <td>0.881000</td>\n",
       "      <td>0.880460</td>\n",
       "    </tr>\n",
       "    <tr>\n",
       "      <td>2</td>\n",
       "      <td>No log</td>\n",
       "      <td>0.280709</td>\n",
       "      <td>0.894000</td>\n",
       "      <td>0.894020</td>\n",
       "    </tr>\n",
       "  </tbody>\n",
       "</table><p>"
      ],
      "text/plain": [
       "<IPython.core.display.HTML object>"
      ]
     },
     "metadata": {},
     "output_type": "display_data"
    },
    {
     "name": "stderr",
     "output_type": "stream",
     "text": [
      "/Users/fongkangwei/nus/ay25_26/dsa4213/envs/transformer/lib/python3.13/site-packages/torch/utils/data/dataloader.py:684: UserWarning: 'pin_memory' argument is set as true but not supported on MPS now, then device pinned memory won't be used.\n",
      "  warnings.warn(warn_msg)\n",
      "/Users/fongkangwei/nus/ay25_26/dsa4213/envs/transformer/lib/python3.13/site-packages/torch/utils/data/dataloader.py:684: UserWarning: 'pin_memory' argument is set as true but not supported on MPS now, then device pinned memory won't be used.\n",
      "  warnings.warn(warn_msg)\n"
     ]
    },
    {
     "data": {
      "text/html": [
       "\n",
       "    <div>\n",
       "      \n",
       "      <progress value='32' max='32' style='width:300px; height:20px; vertical-align: middle;'></progress>\n",
       "      [32/32 00:21]\n",
       "    </div>\n",
       "    "
      ],
      "text/plain": [
       "<IPython.core.display.HTML object>"
      ]
     },
     "metadata": {},
     "output_type": "display_data"
    },
    {
     "name": "stdout",
     "output_type": "stream",
     "text": [
      "\n",
      "⚙️ Full-FT trial  lr=3e-05, bs=16, epochs=3\n"
     ]
    },
    {
     "name": "stderr",
     "output_type": "stream",
     "text": [
      "/Users/fongkangwei/nus/ay25_26/dsa4213/envs/transformer/lib/python3.13/site-packages/transformers/training_args.py:2298: UserWarning: `use_mps_device` is deprecated and will be removed in version 5.0 of 🤗 Transformers. `mps` device will be used by default if available similar to the way `cuda` device is used.Therefore, no action from user is required. \n",
      "  warnings.warn(\n",
      "Some weights of DistilBertForSequenceClassification were not initialized from the model checkpoint at distilbert-base-uncased and are newly initialized: ['classifier.bias', 'classifier.weight', 'pre_classifier.bias', 'pre_classifier.weight']\n",
      "You should probably TRAIN this model on a down-stream task to be able to use it for predictions and inference.\n",
      "/var/folders/6w/v4mx5hzn5z35dk5rqf7nc9nh0000gn/T/ipykernel_1199/266861649.py:35: FutureWarning: `tokenizer` is deprecated and will be removed in version 5.0.0 for `Trainer.__init__`. Use `processing_class` instead.\n",
      "  trainer = Trainer(\n",
      "/Users/fongkangwei/nus/ay25_26/dsa4213/envs/transformer/lib/python3.13/site-packages/torch/utils/data/dataloader.py:684: UserWarning: 'pin_memory' argument is set as true but not supported on MPS now, then device pinned memory won't be used.\n",
      "  warnings.warn(warn_msg)\n"
     ]
    },
    {
     "data": {
      "text/html": [
       "\n",
       "    <div>\n",
       "      \n",
       "      <progress value='750' max='750' style='width:300px; height:20px; vertical-align: middle;'></progress>\n",
       "      [750/750 16:12, Epoch 3/3]\n",
       "    </div>\n",
       "    <table border=\"1\" class=\"dataframe\">\n",
       "  <thead>\n",
       " <tr style=\"text-align: left;\">\n",
       "      <th>Epoch</th>\n",
       "      <th>Training Loss</th>\n",
       "      <th>Validation Loss</th>\n",
       "      <th>Accuracy</th>\n",
       "      <th>F1</th>\n",
       "    </tr>\n",
       "  </thead>\n",
       "  <tbody>\n",
       "    <tr>\n",
       "      <td>1</td>\n",
       "      <td>No log</td>\n",
       "      <td>0.299755</td>\n",
       "      <td>0.878000</td>\n",
       "      <td>0.877725</td>\n",
       "    </tr>\n",
       "    <tr>\n",
       "      <td>2</td>\n",
       "      <td>No log</td>\n",
       "      <td>0.318696</td>\n",
       "      <td>0.888000</td>\n",
       "      <td>0.887964</td>\n",
       "    </tr>\n",
       "    <tr>\n",
       "      <td>3</td>\n",
       "      <td>No log</td>\n",
       "      <td>0.405706</td>\n",
       "      <td>0.886000</td>\n",
       "      <td>0.885940</td>\n",
       "    </tr>\n",
       "  </tbody>\n",
       "</table><p>"
      ],
      "text/plain": [
       "<IPython.core.display.HTML object>"
      ]
     },
     "metadata": {},
     "output_type": "display_data"
    },
    {
     "name": "stderr",
     "output_type": "stream",
     "text": [
      "/Users/fongkangwei/nus/ay25_26/dsa4213/envs/transformer/lib/python3.13/site-packages/torch/utils/data/dataloader.py:684: UserWarning: 'pin_memory' argument is set as true but not supported on MPS now, then device pinned memory won't be used.\n",
      "  warnings.warn(warn_msg)\n",
      "/Users/fongkangwei/nus/ay25_26/dsa4213/envs/transformer/lib/python3.13/site-packages/torch/utils/data/dataloader.py:684: UserWarning: 'pin_memory' argument is set as true but not supported on MPS now, then device pinned memory won't be used.\n",
      "  warnings.warn(warn_msg)\n",
      "/Users/fongkangwei/nus/ay25_26/dsa4213/envs/transformer/lib/python3.13/site-packages/torch/utils/data/dataloader.py:684: UserWarning: 'pin_memory' argument is set as true but not supported on MPS now, then device pinned memory won't be used.\n",
      "  warnings.warn(warn_msg)\n"
     ]
    },
    {
     "data": {
      "text/html": [
       "\n",
       "    <div>\n",
       "      \n",
       "      <progress value='32' max='32' style='width:300px; height:20px; vertical-align: middle;'></progress>\n",
       "      [32/32 00:19]\n",
       "    </div>\n",
       "    "
      ],
      "text/plain": [
       "<IPython.core.display.HTML object>"
      ]
     },
     "metadata": {},
     "output_type": "display_data"
    },
    {
     "name": "stdout",
     "output_type": "stream",
     "text": [
      "\n",
      "⚙️ Full-FT trial  lr=5e-05, bs=8, epochs=2\n"
     ]
    },
    {
     "name": "stderr",
     "output_type": "stream",
     "text": [
      "/Users/fongkangwei/nus/ay25_26/dsa4213/envs/transformer/lib/python3.13/site-packages/transformers/training_args.py:2298: UserWarning: `use_mps_device` is deprecated and will be removed in version 5.0 of 🤗 Transformers. `mps` device will be used by default if available similar to the way `cuda` device is used.Therefore, no action from user is required. \n",
      "  warnings.warn(\n",
      "Some weights of DistilBertForSequenceClassification were not initialized from the model checkpoint at distilbert-base-uncased and are newly initialized: ['classifier.bias', 'classifier.weight', 'pre_classifier.bias', 'pre_classifier.weight']\n",
      "You should probably TRAIN this model on a down-stream task to be able to use it for predictions and inference.\n",
      "/var/folders/6w/v4mx5hzn5z35dk5rqf7nc9nh0000gn/T/ipykernel_1199/266861649.py:35: FutureWarning: `tokenizer` is deprecated and will be removed in version 5.0.0 for `Trainer.__init__`. Use `processing_class` instead.\n",
      "  trainer = Trainer(\n",
      "/Users/fongkangwei/nus/ay25_26/dsa4213/envs/transformer/lib/python3.13/site-packages/torch/utils/data/dataloader.py:684: UserWarning: 'pin_memory' argument is set as true but not supported on MPS now, then device pinned memory won't be used.\n",
      "  warnings.warn(warn_msg)\n"
     ]
    },
    {
     "data": {
      "text/html": [
       "\n",
       "    <div>\n",
       "      \n",
       "      <progress value='1000' max='1000' style='width:300px; height:20px; vertical-align: middle;'></progress>\n",
       "      [1000/1000 11:01, Epoch 2/2]\n",
       "    </div>\n",
       "    <table border=\"1\" class=\"dataframe\">\n",
       "  <thead>\n",
       " <tr style=\"text-align: left;\">\n",
       "      <th>Epoch</th>\n",
       "      <th>Training Loss</th>\n",
       "      <th>Validation Loss</th>\n",
       "      <th>Accuracy</th>\n",
       "      <th>F1</th>\n",
       "    </tr>\n",
       "  </thead>\n",
       "  <tbody>\n",
       "    <tr>\n",
       "      <td>1</td>\n",
       "      <td>No log</td>\n",
       "      <td>0.339800</td>\n",
       "      <td>0.886000</td>\n",
       "      <td>0.885963</td>\n",
       "    </tr>\n",
       "    <tr>\n",
       "      <td>2</td>\n",
       "      <td>No log</td>\n",
       "      <td>0.411994</td>\n",
       "      <td>0.881000</td>\n",
       "      <td>0.881010</td>\n",
       "    </tr>\n",
       "  </tbody>\n",
       "</table><p>"
      ],
      "text/plain": [
       "<IPython.core.display.HTML object>"
      ]
     },
     "metadata": {},
     "output_type": "display_data"
    },
    {
     "name": "stderr",
     "output_type": "stream",
     "text": [
      "/Users/fongkangwei/nus/ay25_26/dsa4213/envs/transformer/lib/python3.13/site-packages/torch/utils/data/dataloader.py:684: UserWarning: 'pin_memory' argument is set as true but not supported on MPS now, then device pinned memory won't be used.\n",
      "  warnings.warn(warn_msg)\n",
      "/Users/fongkangwei/nus/ay25_26/dsa4213/envs/transformer/lib/python3.13/site-packages/torch/utils/data/dataloader.py:684: UserWarning: 'pin_memory' argument is set as true but not supported on MPS now, then device pinned memory won't be used.\n",
      "  warnings.warn(warn_msg)\n"
     ]
    },
    {
     "data": {
      "text/html": [
       "\n",
       "    <div>\n",
       "      \n",
       "      <progress value='63' max='63' style='width:300px; height:20px; vertical-align: middle;'></progress>\n",
       "      [63/63 00:24]\n",
       "    </div>\n",
       "    "
      ],
      "text/plain": [
       "<IPython.core.display.HTML object>"
      ]
     },
     "metadata": {},
     "output_type": "display_data"
    },
    {
     "name": "stdout",
     "output_type": "stream",
     "text": [
      "\n",
      "⚙️ Full-FT trial  lr=5e-05, bs=8, epochs=3\n"
     ]
    },
    {
     "name": "stderr",
     "output_type": "stream",
     "text": [
      "/Users/fongkangwei/nus/ay25_26/dsa4213/envs/transformer/lib/python3.13/site-packages/transformers/training_args.py:2298: UserWarning: `use_mps_device` is deprecated and will be removed in version 5.0 of 🤗 Transformers. `mps` device will be used by default if available similar to the way `cuda` device is used.Therefore, no action from user is required. \n",
      "  warnings.warn(\n",
      "Some weights of DistilBertForSequenceClassification were not initialized from the model checkpoint at distilbert-base-uncased and are newly initialized: ['classifier.bias', 'classifier.weight', 'pre_classifier.bias', 'pre_classifier.weight']\n",
      "You should probably TRAIN this model on a down-stream task to be able to use it for predictions and inference.\n",
      "/var/folders/6w/v4mx5hzn5z35dk5rqf7nc9nh0000gn/T/ipykernel_1199/266861649.py:35: FutureWarning: `tokenizer` is deprecated and will be removed in version 5.0.0 for `Trainer.__init__`. Use `processing_class` instead.\n",
      "  trainer = Trainer(\n",
      "/Users/fongkangwei/nus/ay25_26/dsa4213/envs/transformer/lib/python3.13/site-packages/torch/utils/data/dataloader.py:684: UserWarning: 'pin_memory' argument is set as true but not supported on MPS now, then device pinned memory won't be used.\n",
      "  warnings.warn(warn_msg)\n"
     ]
    },
    {
     "data": {
      "text/html": [
       "\n",
       "    <div>\n",
       "      \n",
       "      <progress value='1500' max='1500' style='width:300px; height:20px; vertical-align: middle;'></progress>\n",
       "      [1500/1500 18:10, Epoch 3/3]\n",
       "    </div>\n",
       "    <table border=\"1\" class=\"dataframe\">\n",
       "  <thead>\n",
       " <tr style=\"text-align: left;\">\n",
       "      <th>Epoch</th>\n",
       "      <th>Training Loss</th>\n",
       "      <th>Validation Loss</th>\n",
       "      <th>Accuracy</th>\n",
       "      <th>F1</th>\n",
       "    </tr>\n",
       "  </thead>\n",
       "  <tbody>\n",
       "    <tr>\n",
       "      <td>1</td>\n",
       "      <td>No log</td>\n",
       "      <td>0.437242</td>\n",
       "      <td>0.873000</td>\n",
       "      <td>0.872459</td>\n",
       "    </tr>\n",
       "    <tr>\n",
       "      <td>2</td>\n",
       "      <td>No log</td>\n",
       "      <td>0.534273</td>\n",
       "      <td>0.865000</td>\n",
       "      <td>0.863904</td>\n",
       "    </tr>\n",
       "    <tr>\n",
       "      <td>3</td>\n",
       "      <td>No log</td>\n",
       "      <td>0.540355</td>\n",
       "      <td>0.885000</td>\n",
       "      <td>0.885027</td>\n",
       "    </tr>\n",
       "  </tbody>\n",
       "</table><p>"
      ],
      "text/plain": [
       "<IPython.core.display.HTML object>"
      ]
     },
     "metadata": {},
     "output_type": "display_data"
    },
    {
     "name": "stderr",
     "output_type": "stream",
     "text": [
      "/Users/fongkangwei/nus/ay25_26/dsa4213/envs/transformer/lib/python3.13/site-packages/torch/utils/data/dataloader.py:684: UserWarning: 'pin_memory' argument is set as true but not supported on MPS now, then device pinned memory won't be used.\n",
      "  warnings.warn(warn_msg)\n",
      "/Users/fongkangwei/nus/ay25_26/dsa4213/envs/transformer/lib/python3.13/site-packages/torch/utils/data/dataloader.py:684: UserWarning: 'pin_memory' argument is set as true but not supported on MPS now, then device pinned memory won't be used.\n",
      "  warnings.warn(warn_msg)\n",
      "/Users/fongkangwei/nus/ay25_26/dsa4213/envs/transformer/lib/python3.13/site-packages/torch/utils/data/dataloader.py:684: UserWarning: 'pin_memory' argument is set as true but not supported on MPS now, then device pinned memory won't be used.\n",
      "  warnings.warn(warn_msg)\n"
     ]
    },
    {
     "data": {
      "text/html": [
       "\n",
       "    <div>\n",
       "      \n",
       "      <progress value='63' max='63' style='width:300px; height:20px; vertical-align: middle;'></progress>\n",
       "      [63/63 00:20]\n",
       "    </div>\n",
       "    "
      ],
      "text/plain": [
       "<IPython.core.display.HTML object>"
      ]
     },
     "metadata": {},
     "output_type": "display_data"
    },
    {
     "name": "stdout",
     "output_type": "stream",
     "text": [
      "\n",
      "⚙️ Full-FT trial  lr=5e-05, bs=16, epochs=2\n"
     ]
    },
    {
     "name": "stderr",
     "output_type": "stream",
     "text": [
      "/Users/fongkangwei/nus/ay25_26/dsa4213/envs/transformer/lib/python3.13/site-packages/transformers/training_args.py:2298: UserWarning: `use_mps_device` is deprecated and will be removed in version 5.0 of 🤗 Transformers. `mps` device will be used by default if available similar to the way `cuda` device is used.Therefore, no action from user is required. \n",
      "  warnings.warn(\n",
      "Some weights of DistilBertForSequenceClassification were not initialized from the model checkpoint at distilbert-base-uncased and are newly initialized: ['classifier.bias', 'classifier.weight', 'pre_classifier.bias', 'pre_classifier.weight']\n",
      "You should probably TRAIN this model on a down-stream task to be able to use it for predictions and inference.\n",
      "/var/folders/6w/v4mx5hzn5z35dk5rqf7nc9nh0000gn/T/ipykernel_1199/266861649.py:35: FutureWarning: `tokenizer` is deprecated and will be removed in version 5.0.0 for `Trainer.__init__`. Use `processing_class` instead.\n",
      "  trainer = Trainer(\n",
      "/Users/fongkangwei/nus/ay25_26/dsa4213/envs/transformer/lib/python3.13/site-packages/torch/utils/data/dataloader.py:684: UserWarning: 'pin_memory' argument is set as true but not supported on MPS now, then device pinned memory won't be used.\n",
      "  warnings.warn(warn_msg)\n"
     ]
    },
    {
     "data": {
      "text/html": [
       "\n",
       "    <div>\n",
       "      \n",
       "      <progress value='500' max='500' style='width:300px; height:20px; vertical-align: middle;'></progress>\n",
       "      [500/500 10:23, Epoch 2/2]\n",
       "    </div>\n",
       "    <table border=\"1\" class=\"dataframe\">\n",
       "  <thead>\n",
       " <tr style=\"text-align: left;\">\n",
       "      <th>Epoch</th>\n",
       "      <th>Training Loss</th>\n",
       "      <th>Validation Loss</th>\n",
       "      <th>Accuracy</th>\n",
       "      <th>F1</th>\n",
       "    </tr>\n",
       "  </thead>\n",
       "  <tbody>\n",
       "    <tr>\n",
       "      <td>1</td>\n",
       "      <td>No log</td>\n",
       "      <td>0.316807</td>\n",
       "      <td>0.875000</td>\n",
       "      <td>0.874624</td>\n",
       "    </tr>\n",
       "    <tr>\n",
       "      <td>2</td>\n",
       "      <td>No log</td>\n",
       "      <td>0.333684</td>\n",
       "      <td>0.892000</td>\n",
       "      <td>0.892027</td>\n",
       "    </tr>\n",
       "  </tbody>\n",
       "</table><p>"
      ],
      "text/plain": [
       "<IPython.core.display.HTML object>"
      ]
     },
     "metadata": {},
     "output_type": "display_data"
    },
    {
     "name": "stderr",
     "output_type": "stream",
     "text": [
      "/Users/fongkangwei/nus/ay25_26/dsa4213/envs/transformer/lib/python3.13/site-packages/torch/utils/data/dataloader.py:684: UserWarning: 'pin_memory' argument is set as true but not supported on MPS now, then device pinned memory won't be used.\n",
      "  warnings.warn(warn_msg)\n",
      "/Users/fongkangwei/nus/ay25_26/dsa4213/envs/transformer/lib/python3.13/site-packages/torch/utils/data/dataloader.py:684: UserWarning: 'pin_memory' argument is set as true but not supported on MPS now, then device pinned memory won't be used.\n",
      "  warnings.warn(warn_msg)\n"
     ]
    },
    {
     "data": {
      "text/html": [
       "\n",
       "    <div>\n",
       "      \n",
       "      <progress value='32' max='32' style='width:300px; height:20px; vertical-align: middle;'></progress>\n",
       "      [32/32 00:18]\n",
       "    </div>\n",
       "    "
      ],
      "text/plain": [
       "<IPython.core.display.HTML object>"
      ]
     },
     "metadata": {},
     "output_type": "display_data"
    },
    {
     "name": "stdout",
     "output_type": "stream",
     "text": [
      "\n",
      "⚙️ Full-FT trial  lr=5e-05, bs=16, epochs=3\n"
     ]
    },
    {
     "name": "stderr",
     "output_type": "stream",
     "text": [
      "/Users/fongkangwei/nus/ay25_26/dsa4213/envs/transformer/lib/python3.13/site-packages/transformers/training_args.py:2298: UserWarning: `use_mps_device` is deprecated and will be removed in version 5.0 of 🤗 Transformers. `mps` device will be used by default if available similar to the way `cuda` device is used.Therefore, no action from user is required. \n",
      "  warnings.warn(\n",
      "Some weights of DistilBertForSequenceClassification were not initialized from the model checkpoint at distilbert-base-uncased and are newly initialized: ['classifier.bias', 'classifier.weight', 'pre_classifier.bias', 'pre_classifier.weight']\n",
      "You should probably TRAIN this model on a down-stream task to be able to use it for predictions and inference.\n",
      "/var/folders/6w/v4mx5hzn5z35dk5rqf7nc9nh0000gn/T/ipykernel_1199/266861649.py:35: FutureWarning: `tokenizer` is deprecated and will be removed in version 5.0.0 for `Trainer.__init__`. Use `processing_class` instead.\n",
      "  trainer = Trainer(\n",
      "/Users/fongkangwei/nus/ay25_26/dsa4213/envs/transformer/lib/python3.13/site-packages/torch/utils/data/dataloader.py:684: UserWarning: 'pin_memory' argument is set as true but not supported on MPS now, then device pinned memory won't be used.\n",
      "  warnings.warn(warn_msg)\n"
     ]
    },
    {
     "data": {
      "text/html": [
       "\n",
       "    <div>\n",
       "      \n",
       "      <progress value='750' max='750' style='width:300px; height:20px; vertical-align: middle;'></progress>\n",
       "      [750/750 16:11, Epoch 3/3]\n",
       "    </div>\n",
       "    <table border=\"1\" class=\"dataframe\">\n",
       "  <thead>\n",
       " <tr style=\"text-align: left;\">\n",
       "      <th>Epoch</th>\n",
       "      <th>Training Loss</th>\n",
       "      <th>Validation Loss</th>\n",
       "      <th>Accuracy</th>\n",
       "      <th>F1</th>\n",
       "    </tr>\n",
       "  </thead>\n",
       "  <tbody>\n",
       "    <tr>\n",
       "      <td>1</td>\n",
       "      <td>No log</td>\n",
       "      <td>0.302972</td>\n",
       "      <td>0.876000</td>\n",
       "      <td>0.875852</td>\n",
       "    </tr>\n",
       "    <tr>\n",
       "      <td>2</td>\n",
       "      <td>No log</td>\n",
       "      <td>0.347936</td>\n",
       "      <td>0.885000</td>\n",
       "      <td>0.884836</td>\n",
       "    </tr>\n",
       "    <tr>\n",
       "      <td>3</td>\n",
       "      <td>No log</td>\n",
       "      <td>0.447484</td>\n",
       "      <td>0.890000</td>\n",
       "      <td>0.889984</td>\n",
       "    </tr>\n",
       "  </tbody>\n",
       "</table><p>"
      ],
      "text/plain": [
       "<IPython.core.display.HTML object>"
      ]
     },
     "metadata": {},
     "output_type": "display_data"
    },
    {
     "name": "stderr",
     "output_type": "stream",
     "text": [
      "/Users/fongkangwei/nus/ay25_26/dsa4213/envs/transformer/lib/python3.13/site-packages/torch/utils/data/dataloader.py:684: UserWarning: 'pin_memory' argument is set as true but not supported on MPS now, then device pinned memory won't be used.\n",
      "  warnings.warn(warn_msg)\n",
      "/Users/fongkangwei/nus/ay25_26/dsa4213/envs/transformer/lib/python3.13/site-packages/torch/utils/data/dataloader.py:684: UserWarning: 'pin_memory' argument is set as true but not supported on MPS now, then device pinned memory won't be used.\n",
      "  warnings.warn(warn_msg)\n",
      "/Users/fongkangwei/nus/ay25_26/dsa4213/envs/transformer/lib/python3.13/site-packages/torch/utils/data/dataloader.py:684: UserWarning: 'pin_memory' argument is set as true but not supported on MPS now, then device pinned memory won't be used.\n",
      "  warnings.warn(warn_msg)\n"
     ]
    },
    {
     "data": {
      "text/html": [
       "\n",
       "    <div>\n",
       "      \n",
       "      <progress value='32' max='32' style='width:300px; height:20px; vertical-align: middle;'></progress>\n",
       "      [32/32 00:19]\n",
       "    </div>\n",
       "    "
      ],
      "text/plain": [
       "<IPython.core.display.HTML object>"
      ]
     },
     "metadata": {},
     "output_type": "display_data"
    },
    {
     "data": {
      "text/html": [
       "<div>\n",
       "<style scoped>\n",
       "    .dataframe tbody tr th:only-of-type {\n",
       "        vertical-align: middle;\n",
       "    }\n",
       "\n",
       "    .dataframe tbody tr th {\n",
       "        vertical-align: top;\n",
       "    }\n",
       "\n",
       "    .dataframe thead th {\n",
       "        text-align: right;\n",
       "    }\n",
       "</style>\n",
       "<table border=\"1\" class=\"dataframe\">\n",
       "  <thead>\n",
       "    <tr style=\"text-align: right;\">\n",
       "      <th></th>\n",
       "      <th>eval_loss</th>\n",
       "      <th>eval_accuracy</th>\n",
       "      <th>eval_f1</th>\n",
       "      <th>eval_runtime</th>\n",
       "      <th>eval_samples_per_second</th>\n",
       "      <th>eval_steps_per_second</th>\n",
       "      <th>epoch</th>\n",
       "      <th>lr</th>\n",
       "      <th>bs</th>\n",
       "      <th>ep</th>\n",
       "      <th>time_s</th>\n",
       "      <th>peak_mem_gb</th>\n",
       "    </tr>\n",
       "  </thead>\n",
       "  <tbody>\n",
       "    <tr>\n",
       "      <th>2</th>\n",
       "      <td>0.284302</td>\n",
       "      <td>0.899</td>\n",
       "      <td>0.898981</td>\n",
       "      <td>36.1061</td>\n",
       "      <td>27.696</td>\n",
       "      <td>0.886</td>\n",
       "      <td>2.0</td>\n",
       "      <td>0.00002</td>\n",
       "      <td>16</td>\n",
       "      <td>2</td>\n",
       "      <td>795.746136</td>\n",
       "      <td>1.080231</td>\n",
       "    </tr>\n",
       "    <tr>\n",
       "      <th>6</th>\n",
       "      <td>0.280709</td>\n",
       "      <td>0.894</td>\n",
       "      <td>0.894020</td>\n",
       "      <td>22.2044</td>\n",
       "      <td>45.036</td>\n",
       "      <td>1.441</td>\n",
       "      <td>2.0</td>\n",
       "      <td>0.00003</td>\n",
       "      <td>16</td>\n",
       "      <td>2</td>\n",
       "      <td>676.475052</td>\n",
       "      <td>0.765335</td>\n",
       "    </tr>\n",
       "    <tr>\n",
       "      <th>10</th>\n",
       "      <td>0.333684</td>\n",
       "      <td>0.892</td>\n",
       "      <td>0.892027</td>\n",
       "      <td>19.4208</td>\n",
       "      <td>51.491</td>\n",
       "      <td>1.648</td>\n",
       "      <td>2.0</td>\n",
       "      <td>0.00005</td>\n",
       "      <td>16</td>\n",
       "      <td>2</td>\n",
       "      <td>624.410175</td>\n",
       "      <td>0.507370</td>\n",
       "    </tr>\n",
       "    <tr>\n",
       "      <th>3</th>\n",
       "      <td>0.350356</td>\n",
       "      <td>0.892</td>\n",
       "      <td>0.891965</td>\n",
       "      <td>36.5289</td>\n",
       "      <td>27.376</td>\n",
       "      <td>0.876</td>\n",
       "      <td>3.0</td>\n",
       "      <td>0.00002</td>\n",
       "      <td>16</td>\n",
       "      <td>3</td>\n",
       "      <td>1899.413486</td>\n",
       "      <td>0.671127</td>\n",
       "    </tr>\n",
       "    <tr>\n",
       "      <th>1</th>\n",
       "      <td>0.467366</td>\n",
       "      <td>0.890</td>\n",
       "      <td>0.890000</td>\n",
       "      <td>25.1728</td>\n",
       "      <td>39.725</td>\n",
       "      <td>2.503</td>\n",
       "      <td>3.0</td>\n",
       "      <td>0.00002</td>\n",
       "      <td>8</td>\n",
       "      <td>3</td>\n",
       "      <td>1172.162691</td>\n",
       "      <td>0.900558</td>\n",
       "    </tr>\n",
       "    <tr>\n",
       "      <th>11</th>\n",
       "      <td>0.447484</td>\n",
       "      <td>0.890</td>\n",
       "      <td>0.889984</td>\n",
       "      <td>19.9550</td>\n",
       "      <td>50.113</td>\n",
       "      <td>1.604</td>\n",
       "      <td>3.0</td>\n",
       "      <td>0.00005</td>\n",
       "      <td>16</td>\n",
       "      <td>3</td>\n",
       "      <td>972.214619</td>\n",
       "      <td>0.472687</td>\n",
       "    </tr>\n",
       "    <tr>\n",
       "      <th>0</th>\n",
       "      <td>0.361740</td>\n",
       "      <td>0.889</td>\n",
       "      <td>0.889023</td>\n",
       "      <td>31.4723</td>\n",
       "      <td>31.774</td>\n",
       "      <td>2.002</td>\n",
       "      <td>2.0</td>\n",
       "      <td>0.00002</td>\n",
       "      <td>8</td>\n",
       "      <td>2</td>\n",
       "      <td>816.651853</td>\n",
       "      <td>0.950211</td>\n",
       "    </tr>\n",
       "    <tr>\n",
       "      <th>4</th>\n",
       "      <td>0.386979</td>\n",
       "      <td>0.888</td>\n",
       "      <td>0.888025</td>\n",
       "      <td>29.6190</td>\n",
       "      <td>33.762</td>\n",
       "      <td>2.127</td>\n",
       "      <td>2.0</td>\n",
       "      <td>0.00003</td>\n",
       "      <td>8</td>\n",
       "      <td>2</td>\n",
       "      <td>980.245010</td>\n",
       "      <td>0.689285</td>\n",
       "    </tr>\n",
       "    <tr>\n",
       "      <th>7</th>\n",
       "      <td>0.405706</td>\n",
       "      <td>0.886</td>\n",
       "      <td>0.885940</td>\n",
       "      <td>20.1420</td>\n",
       "      <td>49.647</td>\n",
       "      <td>1.589</td>\n",
       "      <td>3.0</td>\n",
       "      <td>0.00003</td>\n",
       "      <td>16</td>\n",
       "      <td>3</td>\n",
       "      <td>973.883140</td>\n",
       "      <td>0.689651</td>\n",
       "    </tr>\n",
       "    <tr>\n",
       "      <th>9</th>\n",
       "      <td>0.540355</td>\n",
       "      <td>0.885</td>\n",
       "      <td>0.885027</td>\n",
       "      <td>20.5453</td>\n",
       "      <td>48.673</td>\n",
       "      <td>3.066</td>\n",
       "      <td>3.0</td>\n",
       "      <td>0.00005</td>\n",
       "      <td>8</td>\n",
       "      <td>3</td>\n",
       "      <td>1091.362624</td>\n",
       "      <td>0.492371</td>\n",
       "    </tr>\n",
       "    <tr>\n",
       "      <th>8</th>\n",
       "      <td>0.411994</td>\n",
       "      <td>0.881</td>\n",
       "      <td>0.881010</td>\n",
       "      <td>24.4265</td>\n",
       "      <td>40.939</td>\n",
       "      <td>2.579</td>\n",
       "      <td>2.0</td>\n",
       "      <td>0.00005</td>\n",
       "      <td>8</td>\n",
       "      <td>2</td>\n",
       "      <td>662.591069</td>\n",
       "      <td>0.508957</td>\n",
       "    </tr>\n",
       "    <tr>\n",
       "      <th>5</th>\n",
       "      <td>0.535479</td>\n",
       "      <td>0.881</td>\n",
       "      <td>0.881004</td>\n",
       "      <td>21.7551</td>\n",
       "      <td>45.966</td>\n",
       "      <td>2.896</td>\n",
       "      <td>3.0</td>\n",
       "      <td>0.00003</td>\n",
       "      <td>8</td>\n",
       "      <td>3</td>\n",
       "      <td>1127.607636</td>\n",
       "      <td>0.745575</td>\n",
       "    </tr>\n",
       "  </tbody>\n",
       "</table>\n",
       "</div>"
      ],
      "text/plain": [
       "    eval_loss  eval_accuracy   eval_f1  eval_runtime  eval_samples_per_second  \\\n",
       "2    0.284302          0.899  0.898981       36.1061                   27.696   \n",
       "6    0.280709          0.894  0.894020       22.2044                   45.036   \n",
       "10   0.333684          0.892  0.892027       19.4208                   51.491   \n",
       "3    0.350356          0.892  0.891965       36.5289                   27.376   \n",
       "1    0.467366          0.890  0.890000       25.1728                   39.725   \n",
       "11   0.447484          0.890  0.889984       19.9550                   50.113   \n",
       "0    0.361740          0.889  0.889023       31.4723                   31.774   \n",
       "4    0.386979          0.888  0.888025       29.6190                   33.762   \n",
       "7    0.405706          0.886  0.885940       20.1420                   49.647   \n",
       "9    0.540355          0.885  0.885027       20.5453                   48.673   \n",
       "8    0.411994          0.881  0.881010       24.4265                   40.939   \n",
       "5    0.535479          0.881  0.881004       21.7551                   45.966   \n",
       "\n",
       "    eval_steps_per_second  epoch       lr  bs  ep       time_s  peak_mem_gb  \n",
       "2                   0.886    2.0  0.00002  16   2   795.746136     1.080231  \n",
       "6                   1.441    2.0  0.00003  16   2   676.475052     0.765335  \n",
       "10                  1.648    2.0  0.00005  16   2   624.410175     0.507370  \n",
       "3                   0.876    3.0  0.00002  16   3  1899.413486     0.671127  \n",
       "1                   2.503    3.0  0.00002   8   3  1172.162691     0.900558  \n",
       "11                  1.604    3.0  0.00005  16   3   972.214619     0.472687  \n",
       "0                   2.002    2.0  0.00002   8   2   816.651853     0.950211  \n",
       "4                   2.127    2.0  0.00003   8   2   980.245010     0.689285  \n",
       "7                   1.589    3.0  0.00003  16   3   973.883140     0.689651  \n",
       "9                   3.066    3.0  0.00005   8   3  1091.362624     0.492371  \n",
       "8                   2.579    2.0  0.00005   8   2   662.591069     0.508957  \n",
       "5                   2.896    3.0  0.00003   8   3  1127.607636     0.745575  "
      ]
     },
     "metadata": {},
     "output_type": "display_data"
    },
    {
     "name": "stdout",
     "output_type": "stream",
     "text": [
      "🏆 Best Full-FT hyperparams: {'eval_loss': 0.2843015193939209, 'eval_accuracy': 0.899, 'eval_f1': 0.8989812893851683, 'eval_runtime': 36.1061, 'eval_samples_per_second': 27.696, 'eval_steps_per_second': 0.886, 'epoch': 2.0, 'lr': 2e-05, 'bs': 16.0, 'ep': 2.0, 'time_s': 795.7461359500885, 'peak_mem_gb': 1.080230712890625}\n"
     ]
    }
   ],
   "source": [
    "# ---------------------------------------------------------------\n",
    "# STEP 6: Hyperparameter tuning (validation) for Full Fine-Tuning.\n",
    "# Grid: learning_rate x batch_size x epochs.\n",
    "# ---------------------------------------------------------------\n",
    "param_grid_full = {\n",
    "    \"learning_rate\": [2e-5, 3e-5, 5e-5],\n",
    "    \"per_device_train_batch_size\": [8, 16],\n",
    "    \"num_train_epochs\": [2, 3],\n",
    "}\n",
    "\n",
    "results_full = []\n",
    "for lr in param_grid_full[\"learning_rate\"]:\n",
    "    for bs in param_grid_full[\"per_device_train_batch_size\"]:\n",
    "        for ep in param_grid_full[\"num_train_epochs\"]:\n",
    "            print(f\"\\n⚙️ Full-FT trial  lr={lr}, bs={bs}, epochs={ep}\")\n",
    "            # use single shared output directory and measure time + memory\n",
    "            args = TrainingArguments(\n",
    "                output_dir=\"./temp_tuning\",       # shared temp folder\n",
    "                overwrite_output_dir=True,        # overwrite each run\n",
    "                eval_strategy=\"epoch\",\n",
    "                save_strategy=\"no\",               # no checkpoint saving\n",
    "                logging_strategy=\"no\",           \n",
    "                learning_rate=lr,\n",
    "                per_device_train_batch_size=bs,\n",
    "                per_device_eval_batch_size=bs*2,\n",
    "                num_train_epochs=ep,\n",
    "                weight_decay=0.01,\n",
    "                fp16=False, bf16=False,\n",
    "                report_to=\"none\",\n",
    "                use_mps_device=True,\n",
    "            )\n",
    "            \n",
    "            model = AutoModelForSequenceClassification.from_pretrained(MODEL_NAME, num_labels=2)\n",
    "            trainer = Trainer(\n",
    "                model=model,\n",
    "                args=args,\n",
    "                train_dataset=tokenized[\"train\"],\n",
    "                eval_dataset=tokenized[\"validation\"],\n",
    "                tokenizer=tokenizer,\n",
    "                compute_metrics=compute_metrics,\n",
    "            )\n",
    "            \n",
    "            # --- efficiency tracking ---\n",
    "            with profile_run(DEVICE) as prof:\n",
    "                trainer.train()\n",
    "            \n",
    "            # collect validation results + profiling info\n",
    "            val = trainer.evaluate()\n",
    "            val.update({\n",
    "                \"lr\": lr,\n",
    "                \"bs\": bs,\n",
    "                \"ep\": ep,\n",
    "                \"time_s\": prof[\"time_s\"],\n",
    "                \"peak_mem_gb\": prof[\"peak_mem_gb\"],\n",
    "            })\n",
    "            if prof[\"peak_vram_gb\"] is not None:\n",
    "                val[\"peak_vram_gb\"] = prof[\"peak_vram_gb\"]\n",
    "            \n",
    "            results_full.append(val)\n",
    "\n",
    "\n",
    "df_full = pd.DataFrame(results_full).sort_values(\"eval_f1\", ascending=False)\n",
    "display(df_full)\n",
    "best_full = df_full.iloc[0].to_dict()\n",
    "print(\"🏆 Best Full-FT hyperparams:\", best_full)"
   ]
  },
  {
   "cell_type": "markdown",
   "id": "9d2dbc2f-825a-42da-b8cc-7bdcd95763ab",
   "metadata": {},
   "source": [
    "# 7. Hyperparameter Tuning (LoRa)"
   ]
  },
  {
   "cell_type": "code",
   "execution_count": 7,
   "id": "78a43af8-481e-4df3-8350-26da8d2a7784",
   "metadata": {
    "scrolled": true
   },
   "outputs": [
    {
     "name": "stdout",
     "output_type": "stream",
     "text": [
      "\n",
      "⚙️ LoRA trial  lr=0.0001, bs=8, epochs=2\n"
     ]
    },
    {
     "name": "stderr",
     "output_type": "stream",
     "text": [
      "/Users/fongkangwei/nus/ay25_26/dsa4213/envs/transformer/lib/python3.13/site-packages/transformers/training_args.py:2298: UserWarning: `use_mps_device` is deprecated and will be removed in version 5.0 of 🤗 Transformers. `mps` device will be used by default if available similar to the way `cuda` device is used.Therefore, no action from user is required. \n",
      "  warnings.warn(\n",
      "Some weights of DistilBertForSequenceClassification were not initialized from the model checkpoint at distilbert-base-uncased and are newly initialized: ['classifier.bias', 'classifier.weight', 'pre_classifier.bias', 'pre_classifier.weight']\n",
      "You should probably TRAIN this model on a down-stream task to be able to use it for predictions and inference.\n",
      "/var/folders/6w/v4mx5hzn5z35dk5rqf7nc9nh0000gn/T/ipykernel_1199/1283825550.py:40: FutureWarning: `tokenizer` is deprecated and will be removed in version 5.0.0 for `Trainer.__init__`. Use `processing_class` instead.\n",
      "  trainer = Trainer(\n",
      "/Users/fongkangwei/nus/ay25_26/dsa4213/envs/transformer/lib/python3.13/site-packages/torch/utils/data/dataloader.py:684: UserWarning: 'pin_memory' argument is set as true but not supported on MPS now, then device pinned memory won't be used.\n",
      "  warnings.warn(warn_msg)\n"
     ]
    },
    {
     "data": {
      "text/html": [
       "\n",
       "    <div>\n",
       "      \n",
       "      <progress value='1000' max='1000' style='width:300px; height:20px; vertical-align: middle;'></progress>\n",
       "      [1000/1000 09:16, Epoch 2/2]\n",
       "    </div>\n",
       "    <table border=\"1\" class=\"dataframe\">\n",
       "  <thead>\n",
       " <tr style=\"text-align: left;\">\n",
       "      <th>Epoch</th>\n",
       "      <th>Training Loss</th>\n",
       "      <th>Validation Loss</th>\n",
       "      <th>Accuracy</th>\n",
       "      <th>F1</th>\n",
       "    </tr>\n",
       "  </thead>\n",
       "  <tbody>\n",
       "    <tr>\n",
       "      <td>1</td>\n",
       "      <td>No log</td>\n",
       "      <td>0.316072</td>\n",
       "      <td>0.876000</td>\n",
       "      <td>0.876000</td>\n",
       "    </tr>\n",
       "    <tr>\n",
       "      <td>2</td>\n",
       "      <td>No log</td>\n",
       "      <td>0.301643</td>\n",
       "      <td>0.882000</td>\n",
       "      <td>0.882007</td>\n",
       "    </tr>\n",
       "  </tbody>\n",
       "</table><p>"
      ],
      "text/plain": [
       "<IPython.core.display.HTML object>"
      ]
     },
     "metadata": {},
     "output_type": "display_data"
    },
    {
     "name": "stderr",
     "output_type": "stream",
     "text": [
      "/Users/fongkangwei/nus/ay25_26/dsa4213/envs/transformer/lib/python3.13/site-packages/torch/utils/data/dataloader.py:684: UserWarning: 'pin_memory' argument is set as true but not supported on MPS now, then device pinned memory won't be used.\n",
      "  warnings.warn(warn_msg)\n",
      "/Users/fongkangwei/nus/ay25_26/dsa4213/envs/transformer/lib/python3.13/site-packages/torch/utils/data/dataloader.py:684: UserWarning: 'pin_memory' argument is set as true but not supported on MPS now, then device pinned memory won't be used.\n",
      "  warnings.warn(warn_msg)\n"
     ]
    },
    {
     "data": {
      "text/html": [
       "\n",
       "    <div>\n",
       "      \n",
       "      <progress value='63' max='63' style='width:300px; height:20px; vertical-align: middle;'></progress>\n",
       "      [63/63 00:22]\n",
       "    </div>\n",
       "    "
      ],
      "text/plain": [
       "<IPython.core.display.HTML object>"
      ]
     },
     "metadata": {},
     "output_type": "display_data"
    },
    {
     "name": "stdout",
     "output_type": "stream",
     "text": [
      "\n",
      "⚙️ LoRA trial  lr=0.0001, bs=8, epochs=3\n"
     ]
    },
    {
     "name": "stderr",
     "output_type": "stream",
     "text": [
      "/Users/fongkangwei/nus/ay25_26/dsa4213/envs/transformer/lib/python3.13/site-packages/transformers/training_args.py:2298: UserWarning: `use_mps_device` is deprecated and will be removed in version 5.0 of 🤗 Transformers. `mps` device will be used by default if available similar to the way `cuda` device is used.Therefore, no action from user is required. \n",
      "  warnings.warn(\n",
      "Some weights of DistilBertForSequenceClassification were not initialized from the model checkpoint at distilbert-base-uncased and are newly initialized: ['classifier.bias', 'classifier.weight', 'pre_classifier.bias', 'pre_classifier.weight']\n",
      "You should probably TRAIN this model on a down-stream task to be able to use it for predictions and inference.\n",
      "/var/folders/6w/v4mx5hzn5z35dk5rqf7nc9nh0000gn/T/ipykernel_1199/1283825550.py:40: FutureWarning: `tokenizer` is deprecated and will be removed in version 5.0.0 for `Trainer.__init__`. Use `processing_class` instead.\n",
      "  trainer = Trainer(\n",
      "/Users/fongkangwei/nus/ay25_26/dsa4213/envs/transformer/lib/python3.13/site-packages/torch/utils/data/dataloader.py:684: UserWarning: 'pin_memory' argument is set as true but not supported on MPS now, then device pinned memory won't be used.\n",
      "  warnings.warn(warn_msg)\n"
     ]
    },
    {
     "data": {
      "text/html": [
       "\n",
       "    <div>\n",
       "      \n",
       "      <progress value='1500' max='1500' style='width:300px; height:20px; vertical-align: middle;'></progress>\n",
       "      [1500/1500 13:32, Epoch 3/3]\n",
       "    </div>\n",
       "    <table border=\"1\" class=\"dataframe\">\n",
       "  <thead>\n",
       " <tr style=\"text-align: left;\">\n",
       "      <th>Epoch</th>\n",
       "      <th>Training Loss</th>\n",
       "      <th>Validation Loss</th>\n",
       "      <th>Accuracy</th>\n",
       "      <th>F1</th>\n",
       "    </tr>\n",
       "  </thead>\n",
       "  <tbody>\n",
       "    <tr>\n",
       "      <td>1</td>\n",
       "      <td>No log</td>\n",
       "      <td>0.309768</td>\n",
       "      <td>0.877000</td>\n",
       "      <td>0.877017</td>\n",
       "    </tr>\n",
       "    <tr>\n",
       "      <td>2</td>\n",
       "      <td>No log</td>\n",
       "      <td>0.299738</td>\n",
       "      <td>0.885000</td>\n",
       "      <td>0.884904</td>\n",
       "    </tr>\n",
       "    <tr>\n",
       "      <td>3</td>\n",
       "      <td>No log</td>\n",
       "      <td>0.302045</td>\n",
       "      <td>0.883000</td>\n",
       "      <td>0.882988</td>\n",
       "    </tr>\n",
       "  </tbody>\n",
       "</table><p>"
      ],
      "text/plain": [
       "<IPython.core.display.HTML object>"
      ]
     },
     "metadata": {},
     "output_type": "display_data"
    },
    {
     "name": "stderr",
     "output_type": "stream",
     "text": [
      "/Users/fongkangwei/nus/ay25_26/dsa4213/envs/transformer/lib/python3.13/site-packages/torch/utils/data/dataloader.py:684: UserWarning: 'pin_memory' argument is set as true but not supported on MPS now, then device pinned memory won't be used.\n",
      "  warnings.warn(warn_msg)\n",
      "/Users/fongkangwei/nus/ay25_26/dsa4213/envs/transformer/lib/python3.13/site-packages/torch/utils/data/dataloader.py:684: UserWarning: 'pin_memory' argument is set as true but not supported on MPS now, then device pinned memory won't be used.\n",
      "  warnings.warn(warn_msg)\n",
      "/Users/fongkangwei/nus/ay25_26/dsa4213/envs/transformer/lib/python3.13/site-packages/torch/utils/data/dataloader.py:684: UserWarning: 'pin_memory' argument is set as true but not supported on MPS now, then device pinned memory won't be used.\n",
      "  warnings.warn(warn_msg)\n"
     ]
    },
    {
     "data": {
      "text/html": [
       "\n",
       "    <div>\n",
       "      \n",
       "      <progress value='63' max='63' style='width:300px; height:20px; vertical-align: middle;'></progress>\n",
       "      [63/63 00:24]\n",
       "    </div>\n",
       "    "
      ],
      "text/plain": [
       "<IPython.core.display.HTML object>"
      ]
     },
     "metadata": {},
     "output_type": "display_data"
    },
    {
     "name": "stdout",
     "output_type": "stream",
     "text": [
      "\n",
      "⚙️ LoRA trial  lr=0.0001, bs=16, epochs=2\n"
     ]
    },
    {
     "name": "stderr",
     "output_type": "stream",
     "text": [
      "/Users/fongkangwei/nus/ay25_26/dsa4213/envs/transformer/lib/python3.13/site-packages/transformers/training_args.py:2298: UserWarning: `use_mps_device` is deprecated and will be removed in version 5.0 of 🤗 Transformers. `mps` device will be used by default if available similar to the way `cuda` device is used.Therefore, no action from user is required. \n",
      "  warnings.warn(\n",
      "Some weights of DistilBertForSequenceClassification were not initialized from the model checkpoint at distilbert-base-uncased and are newly initialized: ['classifier.bias', 'classifier.weight', 'pre_classifier.bias', 'pre_classifier.weight']\n",
      "You should probably TRAIN this model on a down-stream task to be able to use it for predictions and inference.\n",
      "/var/folders/6w/v4mx5hzn5z35dk5rqf7nc9nh0000gn/T/ipykernel_1199/1283825550.py:40: FutureWarning: `tokenizer` is deprecated and will be removed in version 5.0.0 for `Trainer.__init__`. Use `processing_class` instead.\n",
      "  trainer = Trainer(\n",
      "/Users/fongkangwei/nus/ay25_26/dsa4213/envs/transformer/lib/python3.13/site-packages/torch/utils/data/dataloader.py:684: UserWarning: 'pin_memory' argument is set as true but not supported on MPS now, then device pinned memory won't be used.\n",
      "  warnings.warn(warn_msg)\n"
     ]
    },
    {
     "data": {
      "text/html": [
       "\n",
       "    <div>\n",
       "      \n",
       "      <progress value='500' max='500' style='width:300px; height:20px; vertical-align: middle;'></progress>\n",
       "      [500/500 09:17, Epoch 2/2]\n",
       "    </div>\n",
       "    <table border=\"1\" class=\"dataframe\">\n",
       "  <thead>\n",
       " <tr style=\"text-align: left;\">\n",
       "      <th>Epoch</th>\n",
       "      <th>Training Loss</th>\n",
       "      <th>Validation Loss</th>\n",
       "      <th>Accuracy</th>\n",
       "      <th>F1</th>\n",
       "    </tr>\n",
       "  </thead>\n",
       "  <tbody>\n",
       "    <tr>\n",
       "      <td>1</td>\n",
       "      <td>No log</td>\n",
       "      <td>0.331601</td>\n",
       "      <td>0.869000</td>\n",
       "      <td>0.868873</td>\n",
       "    </tr>\n",
       "    <tr>\n",
       "      <td>2</td>\n",
       "      <td>No log</td>\n",
       "      <td>0.306138</td>\n",
       "      <td>0.876000</td>\n",
       "      <td>0.876019</td>\n",
       "    </tr>\n",
       "  </tbody>\n",
       "</table><p>"
      ],
      "text/plain": [
       "<IPython.core.display.HTML object>"
      ]
     },
     "metadata": {},
     "output_type": "display_data"
    },
    {
     "name": "stderr",
     "output_type": "stream",
     "text": [
      "/Users/fongkangwei/nus/ay25_26/dsa4213/envs/transformer/lib/python3.13/site-packages/torch/utils/data/dataloader.py:684: UserWarning: 'pin_memory' argument is set as true but not supported on MPS now, then device pinned memory won't be used.\n",
      "  warnings.warn(warn_msg)\n",
      "/Users/fongkangwei/nus/ay25_26/dsa4213/envs/transformer/lib/python3.13/site-packages/torch/utils/data/dataloader.py:684: UserWarning: 'pin_memory' argument is set as true but not supported on MPS now, then device pinned memory won't be used.\n",
      "  warnings.warn(warn_msg)\n"
     ]
    },
    {
     "data": {
      "text/html": [
       "\n",
       "    <div>\n",
       "      \n",
       "      <progress value='32' max='32' style='width:300px; height:20px; vertical-align: middle;'></progress>\n",
       "      [32/32 00:25]\n",
       "    </div>\n",
       "    "
      ],
      "text/plain": [
       "<IPython.core.display.HTML object>"
      ]
     },
     "metadata": {},
     "output_type": "display_data"
    },
    {
     "name": "stdout",
     "output_type": "stream",
     "text": [
      "\n",
      "⚙️ LoRA trial  lr=0.0001, bs=16, epochs=3\n"
     ]
    },
    {
     "name": "stderr",
     "output_type": "stream",
     "text": [
      "/Users/fongkangwei/nus/ay25_26/dsa4213/envs/transformer/lib/python3.13/site-packages/transformers/training_args.py:2298: UserWarning: `use_mps_device` is deprecated and will be removed in version 5.0 of 🤗 Transformers. `mps` device will be used by default if available similar to the way `cuda` device is used.Therefore, no action from user is required. \n",
      "  warnings.warn(\n",
      "Some weights of DistilBertForSequenceClassification were not initialized from the model checkpoint at distilbert-base-uncased and are newly initialized: ['classifier.bias', 'classifier.weight', 'pre_classifier.bias', 'pre_classifier.weight']\n",
      "You should probably TRAIN this model on a down-stream task to be able to use it for predictions and inference.\n",
      "/var/folders/6w/v4mx5hzn5z35dk5rqf7nc9nh0000gn/T/ipykernel_1199/1283825550.py:40: FutureWarning: `tokenizer` is deprecated and will be removed in version 5.0.0 for `Trainer.__init__`. Use `processing_class` instead.\n",
      "  trainer = Trainer(\n",
      "/Users/fongkangwei/nus/ay25_26/dsa4213/envs/transformer/lib/python3.13/site-packages/torch/utils/data/dataloader.py:684: UserWarning: 'pin_memory' argument is set as true but not supported on MPS now, then device pinned memory won't be used.\n",
      "  warnings.warn(warn_msg)\n"
     ]
    },
    {
     "data": {
      "text/html": [
       "\n",
       "    <div>\n",
       "      \n",
       "      <progress value='750' max='750' style='width:300px; height:20px; vertical-align: middle;'></progress>\n",
       "      [750/750 12:44, Epoch 3/3]\n",
       "    </div>\n",
       "    <table border=\"1\" class=\"dataframe\">\n",
       "  <thead>\n",
       " <tr style=\"text-align: left;\">\n",
       "      <th>Epoch</th>\n",
       "      <th>Training Loss</th>\n",
       "      <th>Validation Loss</th>\n",
       "      <th>Accuracy</th>\n",
       "      <th>F1</th>\n",
       "    </tr>\n",
       "  </thead>\n",
       "  <tbody>\n",
       "    <tr>\n",
       "      <td>1</td>\n",
       "      <td>No log</td>\n",
       "      <td>0.327933</td>\n",
       "      <td>0.865000</td>\n",
       "      <td>0.864850</td>\n",
       "    </tr>\n",
       "    <tr>\n",
       "      <td>2</td>\n",
       "      <td>No log</td>\n",
       "      <td>0.290512</td>\n",
       "      <td>0.885000</td>\n",
       "      <td>0.884969</td>\n",
       "    </tr>\n",
       "    <tr>\n",
       "      <td>3</td>\n",
       "      <td>No log</td>\n",
       "      <td>0.287599</td>\n",
       "      <td>0.886000</td>\n",
       "      <td>0.886000</td>\n",
       "    </tr>\n",
       "  </tbody>\n",
       "</table><p>"
      ],
      "text/plain": [
       "<IPython.core.display.HTML object>"
      ]
     },
     "metadata": {},
     "output_type": "display_data"
    },
    {
     "name": "stderr",
     "output_type": "stream",
     "text": [
      "/Users/fongkangwei/nus/ay25_26/dsa4213/envs/transformer/lib/python3.13/site-packages/torch/utils/data/dataloader.py:684: UserWarning: 'pin_memory' argument is set as true but not supported on MPS now, then device pinned memory won't be used.\n",
      "  warnings.warn(warn_msg)\n",
      "/Users/fongkangwei/nus/ay25_26/dsa4213/envs/transformer/lib/python3.13/site-packages/torch/utils/data/dataloader.py:684: UserWarning: 'pin_memory' argument is set as true but not supported on MPS now, then device pinned memory won't be used.\n",
      "  warnings.warn(warn_msg)\n",
      "/Users/fongkangwei/nus/ay25_26/dsa4213/envs/transformer/lib/python3.13/site-packages/torch/utils/data/dataloader.py:684: UserWarning: 'pin_memory' argument is set as true but not supported on MPS now, then device pinned memory won't be used.\n",
      "  warnings.warn(warn_msg)\n"
     ]
    },
    {
     "data": {
      "text/html": [
       "\n",
       "    <div>\n",
       "      \n",
       "      <progress value='32' max='32' style='width:300px; height:20px; vertical-align: middle;'></progress>\n",
       "      [32/32 00:21]\n",
       "    </div>\n",
       "    "
      ],
      "text/plain": [
       "<IPython.core.display.HTML object>"
      ]
     },
     "metadata": {},
     "output_type": "display_data"
    },
    {
     "name": "stdout",
     "output_type": "stream",
     "text": [
      "\n",
      "⚙️ LoRA trial  lr=0.0002, bs=8, epochs=2\n"
     ]
    },
    {
     "name": "stderr",
     "output_type": "stream",
     "text": [
      "/Users/fongkangwei/nus/ay25_26/dsa4213/envs/transformer/lib/python3.13/site-packages/transformers/training_args.py:2298: UserWarning: `use_mps_device` is deprecated and will be removed in version 5.0 of 🤗 Transformers. `mps` device will be used by default if available similar to the way `cuda` device is used.Therefore, no action from user is required. \n",
      "  warnings.warn(\n",
      "Some weights of DistilBertForSequenceClassification were not initialized from the model checkpoint at distilbert-base-uncased and are newly initialized: ['classifier.bias', 'classifier.weight', 'pre_classifier.bias', 'pre_classifier.weight']\n",
      "You should probably TRAIN this model on a down-stream task to be able to use it for predictions and inference.\n",
      "/var/folders/6w/v4mx5hzn5z35dk5rqf7nc9nh0000gn/T/ipykernel_1199/1283825550.py:40: FutureWarning: `tokenizer` is deprecated and will be removed in version 5.0.0 for `Trainer.__init__`. Use `processing_class` instead.\n",
      "  trainer = Trainer(\n",
      "/Users/fongkangwei/nus/ay25_26/dsa4213/envs/transformer/lib/python3.13/site-packages/torch/utils/data/dataloader.py:684: UserWarning: 'pin_memory' argument is set as true but not supported on MPS now, then device pinned memory won't be used.\n",
      "  warnings.warn(warn_msg)\n"
     ]
    },
    {
     "data": {
      "text/html": [
       "\n",
       "    <div>\n",
       "      \n",
       "      <progress value='1000' max='1000' style='width:300px; height:20px; vertical-align: middle;'></progress>\n",
       "      [1000/1000 09:02, Epoch 2/2]\n",
       "    </div>\n",
       "    <table border=\"1\" class=\"dataframe\">\n",
       "  <thead>\n",
       " <tr style=\"text-align: left;\">\n",
       "      <th>Epoch</th>\n",
       "      <th>Training Loss</th>\n",
       "      <th>Validation Loss</th>\n",
       "      <th>Accuracy</th>\n",
       "      <th>F1</th>\n",
       "    </tr>\n",
       "  </thead>\n",
       "  <tbody>\n",
       "    <tr>\n",
       "      <td>1</td>\n",
       "      <td>No log</td>\n",
       "      <td>0.310403</td>\n",
       "      <td>0.876000</td>\n",
       "      <td>0.876032</td>\n",
       "    </tr>\n",
       "    <tr>\n",
       "      <td>2</td>\n",
       "      <td>No log</td>\n",
       "      <td>0.296096</td>\n",
       "      <td>0.885000</td>\n",
       "      <td>0.885004</td>\n",
       "    </tr>\n",
       "  </tbody>\n",
       "</table><p>"
      ],
      "text/plain": [
       "<IPython.core.display.HTML object>"
      ]
     },
     "metadata": {},
     "output_type": "display_data"
    },
    {
     "name": "stderr",
     "output_type": "stream",
     "text": [
      "/Users/fongkangwei/nus/ay25_26/dsa4213/envs/transformer/lib/python3.13/site-packages/torch/utils/data/dataloader.py:684: UserWarning: 'pin_memory' argument is set as true but not supported on MPS now, then device pinned memory won't be used.\n",
      "  warnings.warn(warn_msg)\n",
      "/Users/fongkangwei/nus/ay25_26/dsa4213/envs/transformer/lib/python3.13/site-packages/torch/utils/data/dataloader.py:684: UserWarning: 'pin_memory' argument is set as true but not supported on MPS now, then device pinned memory won't be used.\n",
      "  warnings.warn(warn_msg)\n"
     ]
    },
    {
     "data": {
      "text/html": [
       "\n",
       "    <div>\n",
       "      \n",
       "      <progress value='63' max='63' style='width:300px; height:20px; vertical-align: middle;'></progress>\n",
       "      [63/63 00:23]\n",
       "    </div>\n",
       "    "
      ],
      "text/plain": [
       "<IPython.core.display.HTML object>"
      ]
     },
     "metadata": {},
     "output_type": "display_data"
    },
    {
     "name": "stdout",
     "output_type": "stream",
     "text": [
      "\n",
      "⚙️ LoRA trial  lr=0.0002, bs=8, epochs=3\n"
     ]
    },
    {
     "name": "stderr",
     "output_type": "stream",
     "text": [
      "/Users/fongkangwei/nus/ay25_26/dsa4213/envs/transformer/lib/python3.13/site-packages/transformers/training_args.py:2298: UserWarning: `use_mps_device` is deprecated and will be removed in version 5.0 of 🤗 Transformers. `mps` device will be used by default if available similar to the way `cuda` device is used.Therefore, no action from user is required. \n",
      "  warnings.warn(\n",
      "Some weights of DistilBertForSequenceClassification were not initialized from the model checkpoint at distilbert-base-uncased and are newly initialized: ['classifier.bias', 'classifier.weight', 'pre_classifier.bias', 'pre_classifier.weight']\n",
      "You should probably TRAIN this model on a down-stream task to be able to use it for predictions and inference.\n",
      "/var/folders/6w/v4mx5hzn5z35dk5rqf7nc9nh0000gn/T/ipykernel_1199/1283825550.py:40: FutureWarning: `tokenizer` is deprecated and will be removed in version 5.0.0 for `Trainer.__init__`. Use `processing_class` instead.\n",
      "  trainer = Trainer(\n",
      "/Users/fongkangwei/nus/ay25_26/dsa4213/envs/transformer/lib/python3.13/site-packages/torch/utils/data/dataloader.py:684: UserWarning: 'pin_memory' argument is set as true but not supported on MPS now, then device pinned memory won't be used.\n",
      "  warnings.warn(warn_msg)\n"
     ]
    },
    {
     "data": {
      "text/html": [
       "\n",
       "    <div>\n",
       "      \n",
       "      <progress value='1500' max='1500' style='width:300px; height:20px; vertical-align: middle;'></progress>\n",
       "      [1500/1500 15:12, Epoch 3/3]\n",
       "    </div>\n",
       "    <table border=\"1\" class=\"dataframe\">\n",
       "  <thead>\n",
       " <tr style=\"text-align: left;\">\n",
       "      <th>Epoch</th>\n",
       "      <th>Training Loss</th>\n",
       "      <th>Validation Loss</th>\n",
       "      <th>Accuracy</th>\n",
       "      <th>F1</th>\n",
       "    </tr>\n",
       "  </thead>\n",
       "  <tbody>\n",
       "    <tr>\n",
       "      <td>1</td>\n",
       "      <td>No log</td>\n",
       "      <td>0.304594</td>\n",
       "      <td>0.875000</td>\n",
       "      <td>0.875031</td>\n",
       "    </tr>\n",
       "    <tr>\n",
       "      <td>2</td>\n",
       "      <td>No log</td>\n",
       "      <td>0.306029</td>\n",
       "      <td>0.883000</td>\n",
       "      <td>0.882852</td>\n",
       "    </tr>\n",
       "    <tr>\n",
       "      <td>3</td>\n",
       "      <td>No log</td>\n",
       "      <td>0.315349</td>\n",
       "      <td>0.887000</td>\n",
       "      <td>0.886958</td>\n",
       "    </tr>\n",
       "  </tbody>\n",
       "</table><p>"
      ],
      "text/plain": [
       "<IPython.core.display.HTML object>"
      ]
     },
     "metadata": {},
     "output_type": "display_data"
    },
    {
     "name": "stderr",
     "output_type": "stream",
     "text": [
      "/Users/fongkangwei/nus/ay25_26/dsa4213/envs/transformer/lib/python3.13/site-packages/torch/utils/data/dataloader.py:684: UserWarning: 'pin_memory' argument is set as true but not supported on MPS now, then device pinned memory won't be used.\n",
      "  warnings.warn(warn_msg)\n",
      "/Users/fongkangwei/nus/ay25_26/dsa4213/envs/transformer/lib/python3.13/site-packages/torch/utils/data/dataloader.py:684: UserWarning: 'pin_memory' argument is set as true but not supported on MPS now, then device pinned memory won't be used.\n",
      "  warnings.warn(warn_msg)\n",
      "/Users/fongkangwei/nus/ay25_26/dsa4213/envs/transformer/lib/python3.13/site-packages/torch/utils/data/dataloader.py:684: UserWarning: 'pin_memory' argument is set as true but not supported on MPS now, then device pinned memory won't be used.\n",
      "  warnings.warn(warn_msg)\n"
     ]
    },
    {
     "data": {
      "text/html": [
       "\n",
       "    <div>\n",
       "      \n",
       "      <progress value='63' max='63' style='width:300px; height:20px; vertical-align: middle;'></progress>\n",
       "      [63/63 00:30]\n",
       "    </div>\n",
       "    "
      ],
      "text/plain": [
       "<IPython.core.display.HTML object>"
      ]
     },
     "metadata": {},
     "output_type": "display_data"
    },
    {
     "name": "stdout",
     "output_type": "stream",
     "text": [
      "\n",
      "⚙️ LoRA trial  lr=0.0002, bs=16, epochs=2\n"
     ]
    },
    {
     "name": "stderr",
     "output_type": "stream",
     "text": [
      "/Users/fongkangwei/nus/ay25_26/dsa4213/envs/transformer/lib/python3.13/site-packages/transformers/training_args.py:2298: UserWarning: `use_mps_device` is deprecated and will be removed in version 5.0 of 🤗 Transformers. `mps` device will be used by default if available similar to the way `cuda` device is used.Therefore, no action from user is required. \n",
      "  warnings.warn(\n",
      "Some weights of DistilBertForSequenceClassification were not initialized from the model checkpoint at distilbert-base-uncased and are newly initialized: ['classifier.bias', 'classifier.weight', 'pre_classifier.bias', 'pre_classifier.weight']\n",
      "You should probably TRAIN this model on a down-stream task to be able to use it for predictions and inference.\n",
      "/var/folders/6w/v4mx5hzn5z35dk5rqf7nc9nh0000gn/T/ipykernel_1199/1283825550.py:40: FutureWarning: `tokenizer` is deprecated and will be removed in version 5.0.0 for `Trainer.__init__`. Use `processing_class` instead.\n",
      "  trainer = Trainer(\n",
      "/Users/fongkangwei/nus/ay25_26/dsa4213/envs/transformer/lib/python3.13/site-packages/torch/utils/data/dataloader.py:684: UserWarning: 'pin_memory' argument is set as true but not supported on MPS now, then device pinned memory won't be used.\n",
      "  warnings.warn(warn_msg)\n"
     ]
    },
    {
     "data": {
      "text/html": [
       "\n",
       "    <div>\n",
       "      \n",
       "      <progress value='500' max='500' style='width:300px; height:20px; vertical-align: middle;'></progress>\n",
       "      [500/500 09:52, Epoch 2/2]\n",
       "    </div>\n",
       "    <table border=\"1\" class=\"dataframe\">\n",
       "  <thead>\n",
       " <tr style=\"text-align: left;\">\n",
       "      <th>Epoch</th>\n",
       "      <th>Training Loss</th>\n",
       "      <th>Validation Loss</th>\n",
       "      <th>Accuracy</th>\n",
       "      <th>F1</th>\n",
       "    </tr>\n",
       "  </thead>\n",
       "  <tbody>\n",
       "    <tr>\n",
       "      <td>1</td>\n",
       "      <td>No log</td>\n",
       "      <td>0.314020</td>\n",
       "      <td>0.872000</td>\n",
       "      <td>0.871946</td>\n",
       "    </tr>\n",
       "    <tr>\n",
       "      <td>2</td>\n",
       "      <td>No log</td>\n",
       "      <td>0.285439</td>\n",
       "      <td>0.885000</td>\n",
       "      <td>0.885028</td>\n",
       "    </tr>\n",
       "  </tbody>\n",
       "</table><p>"
      ],
      "text/plain": [
       "<IPython.core.display.HTML object>"
      ]
     },
     "metadata": {},
     "output_type": "display_data"
    },
    {
     "name": "stderr",
     "output_type": "stream",
     "text": [
      "/Users/fongkangwei/nus/ay25_26/dsa4213/envs/transformer/lib/python3.13/site-packages/torch/utils/data/dataloader.py:684: UserWarning: 'pin_memory' argument is set as true but not supported on MPS now, then device pinned memory won't be used.\n",
      "  warnings.warn(warn_msg)\n",
      "/Users/fongkangwei/nus/ay25_26/dsa4213/envs/transformer/lib/python3.13/site-packages/torch/utils/data/dataloader.py:684: UserWarning: 'pin_memory' argument is set as true but not supported on MPS now, then device pinned memory won't be used.\n",
      "  warnings.warn(warn_msg)\n"
     ]
    },
    {
     "data": {
      "text/html": [
       "\n",
       "    <div>\n",
       "      \n",
       "      <progress value='32' max='32' style='width:300px; height:20px; vertical-align: middle;'></progress>\n",
       "      [32/32 00:26]\n",
       "    </div>\n",
       "    "
      ],
      "text/plain": [
       "<IPython.core.display.HTML object>"
      ]
     },
     "metadata": {},
     "output_type": "display_data"
    },
    {
     "name": "stdout",
     "output_type": "stream",
     "text": [
      "\n",
      "⚙️ LoRA trial  lr=0.0002, bs=16, epochs=3\n"
     ]
    },
    {
     "name": "stderr",
     "output_type": "stream",
     "text": [
      "/Users/fongkangwei/nus/ay25_26/dsa4213/envs/transformer/lib/python3.13/site-packages/transformers/training_args.py:2298: UserWarning: `use_mps_device` is deprecated and will be removed in version 5.0 of 🤗 Transformers. `mps` device will be used by default if available similar to the way `cuda` device is used.Therefore, no action from user is required. \n",
      "  warnings.warn(\n",
      "Some weights of DistilBertForSequenceClassification were not initialized from the model checkpoint at distilbert-base-uncased and are newly initialized: ['classifier.bias', 'classifier.weight', 'pre_classifier.bias', 'pre_classifier.weight']\n",
      "You should probably TRAIN this model on a down-stream task to be able to use it for predictions and inference.\n",
      "/var/folders/6w/v4mx5hzn5z35dk5rqf7nc9nh0000gn/T/ipykernel_1199/1283825550.py:40: FutureWarning: `tokenizer` is deprecated and will be removed in version 5.0.0 for `Trainer.__init__`. Use `processing_class` instead.\n",
      "  trainer = Trainer(\n",
      "/Users/fongkangwei/nus/ay25_26/dsa4213/envs/transformer/lib/python3.13/site-packages/torch/utils/data/dataloader.py:684: UserWarning: 'pin_memory' argument is set as true but not supported on MPS now, then device pinned memory won't be used.\n",
      "  warnings.warn(warn_msg)\n"
     ]
    },
    {
     "data": {
      "text/html": [
       "\n",
       "    <div>\n",
       "      \n",
       "      <progress value='750' max='750' style='width:300px; height:20px; vertical-align: middle;'></progress>\n",
       "      [750/750 15:28, Epoch 3/3]\n",
       "    </div>\n",
       "    <table border=\"1\" class=\"dataframe\">\n",
       "  <thead>\n",
       " <tr style=\"text-align: left;\">\n",
       "      <th>Epoch</th>\n",
       "      <th>Training Loss</th>\n",
       "      <th>Validation Loss</th>\n",
       "      <th>Accuracy</th>\n",
       "      <th>F1</th>\n",
       "    </tr>\n",
       "  </thead>\n",
       "  <tbody>\n",
       "    <tr>\n",
       "      <td>1</td>\n",
       "      <td>No log</td>\n",
       "      <td>0.311999</td>\n",
       "      <td>0.874000</td>\n",
       "      <td>0.873947</td>\n",
       "    </tr>\n",
       "    <tr>\n",
       "      <td>2</td>\n",
       "      <td>No log</td>\n",
       "      <td>0.278009</td>\n",
       "      <td>0.889000</td>\n",
       "      <td>0.888979</td>\n",
       "    </tr>\n",
       "    <tr>\n",
       "      <td>3</td>\n",
       "      <td>No log</td>\n",
       "      <td>0.279422</td>\n",
       "      <td>0.892000</td>\n",
       "      <td>0.891993</td>\n",
       "    </tr>\n",
       "  </tbody>\n",
       "</table><p>"
      ],
      "text/plain": [
       "<IPython.core.display.HTML object>"
      ]
     },
     "metadata": {},
     "output_type": "display_data"
    },
    {
     "name": "stderr",
     "output_type": "stream",
     "text": [
      "/Users/fongkangwei/nus/ay25_26/dsa4213/envs/transformer/lib/python3.13/site-packages/torch/utils/data/dataloader.py:684: UserWarning: 'pin_memory' argument is set as true but not supported on MPS now, then device pinned memory won't be used.\n",
      "  warnings.warn(warn_msg)\n",
      "/Users/fongkangwei/nus/ay25_26/dsa4213/envs/transformer/lib/python3.13/site-packages/torch/utils/data/dataloader.py:684: UserWarning: 'pin_memory' argument is set as true but not supported on MPS now, then device pinned memory won't be used.\n",
      "  warnings.warn(warn_msg)\n",
      "/Users/fongkangwei/nus/ay25_26/dsa4213/envs/transformer/lib/python3.13/site-packages/torch/utils/data/dataloader.py:684: UserWarning: 'pin_memory' argument is set as true but not supported on MPS now, then device pinned memory won't be used.\n",
      "  warnings.warn(warn_msg)\n"
     ]
    },
    {
     "data": {
      "text/html": [
       "\n",
       "    <div>\n",
       "      \n",
       "      <progress value='32' max='32' style='width:300px; height:20px; vertical-align: middle;'></progress>\n",
       "      [32/32 00:30]\n",
       "    </div>\n",
       "    "
      ],
      "text/plain": [
       "<IPython.core.display.HTML object>"
      ]
     },
     "metadata": {},
     "output_type": "display_data"
    },
    {
     "name": "stdout",
     "output_type": "stream",
     "text": [
      "\n",
      "⚙️ LoRA trial  lr=0.0005, bs=8, epochs=2\n"
     ]
    },
    {
     "name": "stderr",
     "output_type": "stream",
     "text": [
      "/Users/fongkangwei/nus/ay25_26/dsa4213/envs/transformer/lib/python3.13/site-packages/transformers/training_args.py:2298: UserWarning: `use_mps_device` is deprecated and will be removed in version 5.0 of 🤗 Transformers. `mps` device will be used by default if available similar to the way `cuda` device is used.Therefore, no action from user is required. \n",
      "  warnings.warn(\n",
      "Some weights of DistilBertForSequenceClassification were not initialized from the model checkpoint at distilbert-base-uncased and are newly initialized: ['classifier.bias', 'classifier.weight', 'pre_classifier.bias', 'pre_classifier.weight']\n",
      "You should probably TRAIN this model on a down-stream task to be able to use it for predictions and inference.\n",
      "/var/folders/6w/v4mx5hzn5z35dk5rqf7nc9nh0000gn/T/ipykernel_1199/1283825550.py:40: FutureWarning: `tokenizer` is deprecated and will be removed in version 5.0.0 for `Trainer.__init__`. Use `processing_class` instead.\n",
      "  trainer = Trainer(\n",
      "/Users/fongkangwei/nus/ay25_26/dsa4213/envs/transformer/lib/python3.13/site-packages/torch/utils/data/dataloader.py:684: UserWarning: 'pin_memory' argument is set as true but not supported on MPS now, then device pinned memory won't be used.\n",
      "  warnings.warn(warn_msg)\n"
     ]
    },
    {
     "data": {
      "text/html": [
       "\n",
       "    <div>\n",
       "      \n",
       "      <progress value='1000' max='1000' style='width:300px; height:20px; vertical-align: middle;'></progress>\n",
       "      [1000/1000 10:28, Epoch 2/2]\n",
       "    </div>\n",
       "    <table border=\"1\" class=\"dataframe\">\n",
       "  <thead>\n",
       " <tr style=\"text-align: left;\">\n",
       "      <th>Epoch</th>\n",
       "      <th>Training Loss</th>\n",
       "      <th>Validation Loss</th>\n",
       "      <th>Accuracy</th>\n",
       "      <th>F1</th>\n",
       "    </tr>\n",
       "  </thead>\n",
       "  <tbody>\n",
       "    <tr>\n",
       "      <td>1</td>\n",
       "      <td>No log</td>\n",
       "      <td>0.311152</td>\n",
       "      <td>0.877000</td>\n",
       "      <td>0.877031</td>\n",
       "    </tr>\n",
       "    <tr>\n",
       "      <td>2</td>\n",
       "      <td>No log</td>\n",
       "      <td>0.290059</td>\n",
       "      <td>0.887000</td>\n",
       "      <td>0.887010</td>\n",
       "    </tr>\n",
       "  </tbody>\n",
       "</table><p>"
      ],
      "text/plain": [
       "<IPython.core.display.HTML object>"
      ]
     },
     "metadata": {},
     "output_type": "display_data"
    },
    {
     "name": "stderr",
     "output_type": "stream",
     "text": [
      "/Users/fongkangwei/nus/ay25_26/dsa4213/envs/transformer/lib/python3.13/site-packages/torch/utils/data/dataloader.py:684: UserWarning: 'pin_memory' argument is set as true but not supported on MPS now, then device pinned memory won't be used.\n",
      "  warnings.warn(warn_msg)\n",
      "/Users/fongkangwei/nus/ay25_26/dsa4213/envs/transformer/lib/python3.13/site-packages/torch/utils/data/dataloader.py:684: UserWarning: 'pin_memory' argument is set as true but not supported on MPS now, then device pinned memory won't be used.\n",
      "  warnings.warn(warn_msg)\n"
     ]
    },
    {
     "data": {
      "text/html": [
       "\n",
       "    <div>\n",
       "      \n",
       "      <progress value='63' max='63' style='width:300px; height:20px; vertical-align: middle;'></progress>\n",
       "      [63/63 00:27]\n",
       "    </div>\n",
       "    "
      ],
      "text/plain": [
       "<IPython.core.display.HTML object>"
      ]
     },
     "metadata": {},
     "output_type": "display_data"
    },
    {
     "name": "stdout",
     "output_type": "stream",
     "text": [
      "\n",
      "⚙️ LoRA trial  lr=0.0005, bs=8, epochs=3\n"
     ]
    },
    {
     "name": "stderr",
     "output_type": "stream",
     "text": [
      "/Users/fongkangwei/nus/ay25_26/dsa4213/envs/transformer/lib/python3.13/site-packages/transformers/training_args.py:2298: UserWarning: `use_mps_device` is deprecated and will be removed in version 5.0 of 🤗 Transformers. `mps` device will be used by default if available similar to the way `cuda` device is used.Therefore, no action from user is required. \n",
      "  warnings.warn(\n",
      "Some weights of DistilBertForSequenceClassification were not initialized from the model checkpoint at distilbert-base-uncased and are newly initialized: ['classifier.bias', 'classifier.weight', 'pre_classifier.bias', 'pre_classifier.weight']\n",
      "You should probably TRAIN this model on a down-stream task to be able to use it for predictions and inference.\n",
      "/var/folders/6w/v4mx5hzn5z35dk5rqf7nc9nh0000gn/T/ipykernel_1199/1283825550.py:40: FutureWarning: `tokenizer` is deprecated and will be removed in version 5.0.0 for `Trainer.__init__`. Use `processing_class` instead.\n",
      "  trainer = Trainer(\n",
      "/Users/fongkangwei/nus/ay25_26/dsa4213/envs/transformer/lib/python3.13/site-packages/torch/utils/data/dataloader.py:684: UserWarning: 'pin_memory' argument is set as true but not supported on MPS now, then device pinned memory won't be used.\n",
      "  warnings.warn(warn_msg)\n"
     ]
    },
    {
     "data": {
      "text/html": [
       "\n",
       "    <div>\n",
       "      \n",
       "      <progress value='1500' max='1500' style='width:300px; height:20px; vertical-align: middle;'></progress>\n",
       "      [1500/1500 15:51, Epoch 3/3]\n",
       "    </div>\n",
       "    <table border=\"1\" class=\"dataframe\">\n",
       "  <thead>\n",
       " <tr style=\"text-align: left;\">\n",
       "      <th>Epoch</th>\n",
       "      <th>Training Loss</th>\n",
       "      <th>Validation Loss</th>\n",
       "      <th>Accuracy</th>\n",
       "      <th>F1</th>\n",
       "    </tr>\n",
       "  </thead>\n",
       "  <tbody>\n",
       "    <tr>\n",
       "      <td>1</td>\n",
       "      <td>No log</td>\n",
       "      <td>0.302532</td>\n",
       "      <td>0.877000</td>\n",
       "      <td>0.877028</td>\n",
       "    </tr>\n",
       "    <tr>\n",
       "      <td>2</td>\n",
       "      <td>No log</td>\n",
       "      <td>0.313528</td>\n",
       "      <td>0.886000</td>\n",
       "      <td>0.885846</td>\n",
       "    </tr>\n",
       "    <tr>\n",
       "      <td>3</td>\n",
       "      <td>No log</td>\n",
       "      <td>0.332749</td>\n",
       "      <td>0.888000</td>\n",
       "      <td>0.887974</td>\n",
       "    </tr>\n",
       "  </tbody>\n",
       "</table><p>"
      ],
      "text/plain": [
       "<IPython.core.display.HTML object>"
      ]
     },
     "metadata": {},
     "output_type": "display_data"
    },
    {
     "name": "stderr",
     "output_type": "stream",
     "text": [
      "/Users/fongkangwei/nus/ay25_26/dsa4213/envs/transformer/lib/python3.13/site-packages/torch/utils/data/dataloader.py:684: UserWarning: 'pin_memory' argument is set as true but not supported on MPS now, then device pinned memory won't be used.\n",
      "  warnings.warn(warn_msg)\n",
      "/Users/fongkangwei/nus/ay25_26/dsa4213/envs/transformer/lib/python3.13/site-packages/torch/utils/data/dataloader.py:684: UserWarning: 'pin_memory' argument is set as true but not supported on MPS now, then device pinned memory won't be used.\n",
      "  warnings.warn(warn_msg)\n",
      "/Users/fongkangwei/nus/ay25_26/dsa4213/envs/transformer/lib/python3.13/site-packages/torch/utils/data/dataloader.py:684: UserWarning: 'pin_memory' argument is set as true but not supported on MPS now, then device pinned memory won't be used.\n",
      "  warnings.warn(warn_msg)\n"
     ]
    },
    {
     "data": {
      "text/html": [
       "\n",
       "    <div>\n",
       "      \n",
       "      <progress value='63' max='63' style='width:300px; height:20px; vertical-align: middle;'></progress>\n",
       "      [63/63 00:31]\n",
       "    </div>\n",
       "    "
      ],
      "text/plain": [
       "<IPython.core.display.HTML object>"
      ]
     },
     "metadata": {},
     "output_type": "display_data"
    },
    {
     "name": "stdout",
     "output_type": "stream",
     "text": [
      "\n",
      "⚙️ LoRA trial  lr=0.0005, bs=16, epochs=2\n"
     ]
    },
    {
     "name": "stderr",
     "output_type": "stream",
     "text": [
      "/Users/fongkangwei/nus/ay25_26/dsa4213/envs/transformer/lib/python3.13/site-packages/transformers/training_args.py:2298: UserWarning: `use_mps_device` is deprecated and will be removed in version 5.0 of 🤗 Transformers. `mps` device will be used by default if available similar to the way `cuda` device is used.Therefore, no action from user is required. \n",
      "  warnings.warn(\n",
      "Some weights of DistilBertForSequenceClassification were not initialized from the model checkpoint at distilbert-base-uncased and are newly initialized: ['classifier.bias', 'classifier.weight', 'pre_classifier.bias', 'pre_classifier.weight']\n",
      "You should probably TRAIN this model on a down-stream task to be able to use it for predictions and inference.\n",
      "/var/folders/6w/v4mx5hzn5z35dk5rqf7nc9nh0000gn/T/ipykernel_1199/1283825550.py:40: FutureWarning: `tokenizer` is deprecated and will be removed in version 5.0.0 for `Trainer.__init__`. Use `processing_class` instead.\n",
      "  trainer = Trainer(\n",
      "/Users/fongkangwei/nus/ay25_26/dsa4213/envs/transformer/lib/python3.13/site-packages/torch/utils/data/dataloader.py:684: UserWarning: 'pin_memory' argument is set as true but not supported on MPS now, then device pinned memory won't be used.\n",
      "  warnings.warn(warn_msg)\n"
     ]
    },
    {
     "data": {
      "text/html": [
       "\n",
       "    <div>\n",
       "      \n",
       "      <progress value='500' max='500' style='width:300px; height:20px; vertical-align: middle;'></progress>\n",
       "      [500/500 10:46, Epoch 2/2]\n",
       "    </div>\n",
       "    <table border=\"1\" class=\"dataframe\">\n",
       "  <thead>\n",
       " <tr style=\"text-align: left;\">\n",
       "      <th>Epoch</th>\n",
       "      <th>Training Loss</th>\n",
       "      <th>Validation Loss</th>\n",
       "      <th>Accuracy</th>\n",
       "      <th>F1</th>\n",
       "    </tr>\n",
       "  </thead>\n",
       "  <tbody>\n",
       "    <tr>\n",
       "      <td>1</td>\n",
       "      <td>No log</td>\n",
       "      <td>0.301066</td>\n",
       "      <td>0.876000</td>\n",
       "      <td>0.876030</td>\n",
       "    </tr>\n",
       "    <tr>\n",
       "      <td>2</td>\n",
       "      <td>No log</td>\n",
       "      <td>0.272578</td>\n",
       "      <td>0.889000</td>\n",
       "      <td>0.889019</td>\n",
       "    </tr>\n",
       "  </tbody>\n",
       "</table><p>"
      ],
      "text/plain": [
       "<IPython.core.display.HTML object>"
      ]
     },
     "metadata": {},
     "output_type": "display_data"
    },
    {
     "name": "stderr",
     "output_type": "stream",
     "text": [
      "/Users/fongkangwei/nus/ay25_26/dsa4213/envs/transformer/lib/python3.13/site-packages/torch/utils/data/dataloader.py:684: UserWarning: 'pin_memory' argument is set as true but not supported on MPS now, then device pinned memory won't be used.\n",
      "  warnings.warn(warn_msg)\n",
      "/Users/fongkangwei/nus/ay25_26/dsa4213/envs/transformer/lib/python3.13/site-packages/torch/utils/data/dataloader.py:684: UserWarning: 'pin_memory' argument is set as true but not supported on MPS now, then device pinned memory won't be used.\n",
      "  warnings.warn(warn_msg)\n"
     ]
    },
    {
     "data": {
      "text/html": [
       "\n",
       "    <div>\n",
       "      \n",
       "      <progress value='32' max='32' style='width:300px; height:20px; vertical-align: middle;'></progress>\n",
       "      [32/32 00:39]\n",
       "    </div>\n",
       "    "
      ],
      "text/plain": [
       "<IPython.core.display.HTML object>"
      ]
     },
     "metadata": {},
     "output_type": "display_data"
    },
    {
     "name": "stdout",
     "output_type": "stream",
     "text": [
      "\n",
      "⚙️ LoRA trial  lr=0.0005, bs=16, epochs=3\n"
     ]
    },
    {
     "name": "stderr",
     "output_type": "stream",
     "text": [
      "/Users/fongkangwei/nus/ay25_26/dsa4213/envs/transformer/lib/python3.13/site-packages/transformers/training_args.py:2298: UserWarning: `use_mps_device` is deprecated and will be removed in version 5.0 of 🤗 Transformers. `mps` device will be used by default if available similar to the way `cuda` device is used.Therefore, no action from user is required. \n",
      "  warnings.warn(\n",
      "Some weights of DistilBertForSequenceClassification were not initialized from the model checkpoint at distilbert-base-uncased and are newly initialized: ['classifier.bias', 'classifier.weight', 'pre_classifier.bias', 'pre_classifier.weight']\n",
      "You should probably TRAIN this model on a down-stream task to be able to use it for predictions and inference.\n",
      "/var/folders/6w/v4mx5hzn5z35dk5rqf7nc9nh0000gn/T/ipykernel_1199/1283825550.py:40: FutureWarning: `tokenizer` is deprecated and will be removed in version 5.0.0 for `Trainer.__init__`. Use `processing_class` instead.\n",
      "  trainer = Trainer(\n",
      "/Users/fongkangwei/nus/ay25_26/dsa4213/envs/transformer/lib/python3.13/site-packages/torch/utils/data/dataloader.py:684: UserWarning: 'pin_memory' argument is set as true but not supported on MPS now, then device pinned memory won't be used.\n",
      "  warnings.warn(warn_msg)\n"
     ]
    },
    {
     "data": {
      "text/html": [
       "\n",
       "    <div>\n",
       "      \n",
       "      <progress value='750' max='750' style='width:300px; height:20px; vertical-align: middle;'></progress>\n",
       "      [750/750 19:43, Epoch 3/3]\n",
       "    </div>\n",
       "    <table border=\"1\" class=\"dataframe\">\n",
       "  <thead>\n",
       " <tr style=\"text-align: left;\">\n",
       "      <th>Epoch</th>\n",
       "      <th>Training Loss</th>\n",
       "      <th>Validation Loss</th>\n",
       "      <th>Accuracy</th>\n",
       "      <th>F1</th>\n",
       "    </tr>\n",
       "  </thead>\n",
       "  <tbody>\n",
       "    <tr>\n",
       "      <td>1</td>\n",
       "      <td>No log</td>\n",
       "      <td>0.290666</td>\n",
       "      <td>0.885000</td>\n",
       "      <td>0.885004</td>\n",
       "    </tr>\n",
       "    <tr>\n",
       "      <td>2</td>\n",
       "      <td>No log</td>\n",
       "      <td>0.271040</td>\n",
       "      <td>0.894000</td>\n",
       "      <td>0.893966</td>\n",
       "    </tr>\n",
       "    <tr>\n",
       "      <td>3</td>\n",
       "      <td>No log</td>\n",
       "      <td>0.279452</td>\n",
       "      <td>0.898000</td>\n",
       "      <td>0.897985</td>\n",
       "    </tr>\n",
       "  </tbody>\n",
       "</table><p>"
      ],
      "text/plain": [
       "<IPython.core.display.HTML object>"
      ]
     },
     "metadata": {},
     "output_type": "display_data"
    },
    {
     "name": "stderr",
     "output_type": "stream",
     "text": [
      "/Users/fongkangwei/nus/ay25_26/dsa4213/envs/transformer/lib/python3.13/site-packages/torch/utils/data/dataloader.py:684: UserWarning: 'pin_memory' argument is set as true but not supported on MPS now, then device pinned memory won't be used.\n",
      "  warnings.warn(warn_msg)\n",
      "/Users/fongkangwei/nus/ay25_26/dsa4213/envs/transformer/lib/python3.13/site-packages/torch/utils/data/dataloader.py:684: UserWarning: 'pin_memory' argument is set as true but not supported on MPS now, then device pinned memory won't be used.\n",
      "  warnings.warn(warn_msg)\n",
      "/Users/fongkangwei/nus/ay25_26/dsa4213/envs/transformer/lib/python3.13/site-packages/torch/utils/data/dataloader.py:684: UserWarning: 'pin_memory' argument is set as true but not supported on MPS now, then device pinned memory won't be used.\n",
      "  warnings.warn(warn_msg)\n"
     ]
    },
    {
     "data": {
      "text/html": [
       "\n",
       "    <div>\n",
       "      \n",
       "      <progress value='32' max='32' style='width:300px; height:20px; vertical-align: middle;'></progress>\n",
       "      [32/32 00:26]\n",
       "    </div>\n",
       "    "
      ],
      "text/plain": [
       "<IPython.core.display.HTML object>"
      ]
     },
     "metadata": {},
     "output_type": "display_data"
    },
    {
     "data": {
      "text/html": [
       "<div>\n",
       "<style scoped>\n",
       "    .dataframe tbody tr th:only-of-type {\n",
       "        vertical-align: middle;\n",
       "    }\n",
       "\n",
       "    .dataframe tbody tr th {\n",
       "        vertical-align: top;\n",
       "    }\n",
       "\n",
       "    .dataframe thead th {\n",
       "        text-align: right;\n",
       "    }\n",
       "</style>\n",
       "<table border=\"1\" class=\"dataframe\">\n",
       "  <thead>\n",
       "    <tr style=\"text-align: right;\">\n",
       "      <th></th>\n",
       "      <th>eval_loss</th>\n",
       "      <th>eval_accuracy</th>\n",
       "      <th>eval_f1</th>\n",
       "      <th>eval_runtime</th>\n",
       "      <th>eval_samples_per_second</th>\n",
       "      <th>eval_steps_per_second</th>\n",
       "      <th>epoch</th>\n",
       "      <th>lr</th>\n",
       "      <th>bs</th>\n",
       "      <th>ep</th>\n",
       "      <th>time_s</th>\n",
       "      <th>peak_mem_gb</th>\n",
       "    </tr>\n",
       "  </thead>\n",
       "  <tbody>\n",
       "    <tr>\n",
       "      <th>11</th>\n",
       "      <td>0.279452</td>\n",
       "      <td>0.898</td>\n",
       "      <td>0.897985</td>\n",
       "      <td>27.1408</td>\n",
       "      <td>36.845</td>\n",
       "      <td>1.179</td>\n",
       "      <td>3.0</td>\n",
       "      <td>0.0005</td>\n",
       "      <td>16</td>\n",
       "      <td>3</td>\n",
       "      <td>1184.586756</td>\n",
       "      <td>0.485428</td>\n",
       "    </tr>\n",
       "    <tr>\n",
       "      <th>7</th>\n",
       "      <td>0.279422</td>\n",
       "      <td>0.892</td>\n",
       "      <td>0.891993</td>\n",
       "      <td>31.2565</td>\n",
       "      <td>31.993</td>\n",
       "      <td>1.024</td>\n",
       "      <td>3.0</td>\n",
       "      <td>0.0002</td>\n",
       "      <td>16</td>\n",
       "      <td>3</td>\n",
       "      <td>929.191971</td>\n",
       "      <td>0.461761</td>\n",
       "    </tr>\n",
       "    <tr>\n",
       "      <th>10</th>\n",
       "      <td>0.272578</td>\n",
       "      <td>0.889</td>\n",
       "      <td>0.889019</td>\n",
       "      <td>40.6278</td>\n",
       "      <td>24.614</td>\n",
       "      <td>0.788</td>\n",
       "      <td>2.0</td>\n",
       "      <td>0.0005</td>\n",
       "      <td>16</td>\n",
       "      <td>2</td>\n",
       "      <td>647.679255</td>\n",
       "      <td>0.483154</td>\n",
       "    </tr>\n",
       "    <tr>\n",
       "      <th>9</th>\n",
       "      <td>0.332749</td>\n",
       "      <td>0.888</td>\n",
       "      <td>0.887974</td>\n",
       "      <td>31.7452</td>\n",
       "      <td>31.501</td>\n",
       "      <td>1.985</td>\n",
       "      <td>3.0</td>\n",
       "      <td>0.0005</td>\n",
       "      <td>8</td>\n",
       "      <td>3</td>\n",
       "      <td>951.619254</td>\n",
       "      <td>0.495331</td>\n",
       "    </tr>\n",
       "    <tr>\n",
       "      <th>8</th>\n",
       "      <td>0.290059</td>\n",
       "      <td>0.887</td>\n",
       "      <td>0.887010</td>\n",
       "      <td>28.4719</td>\n",
       "      <td>35.122</td>\n",
       "      <td>2.213</td>\n",
       "      <td>2.0</td>\n",
       "      <td>0.0005</td>\n",
       "      <td>8</td>\n",
       "      <td>2</td>\n",
       "      <td>629.560728</td>\n",
       "      <td>0.439865</td>\n",
       "    </tr>\n",
       "    <tr>\n",
       "      <th>5</th>\n",
       "      <td>0.315349</td>\n",
       "      <td>0.887</td>\n",
       "      <td>0.886958</td>\n",
       "      <td>31.3864</td>\n",
       "      <td>31.861</td>\n",
       "      <td>2.007</td>\n",
       "      <td>3.0</td>\n",
       "      <td>0.0002</td>\n",
       "      <td>8</td>\n",
       "      <td>3</td>\n",
       "      <td>913.214977</td>\n",
       "      <td>0.484497</td>\n",
       "    </tr>\n",
       "    <tr>\n",
       "      <th>3</th>\n",
       "      <td>0.287599</td>\n",
       "      <td>0.886</td>\n",
       "      <td>0.886000</td>\n",
       "      <td>21.9715</td>\n",
       "      <td>45.513</td>\n",
       "      <td>1.456</td>\n",
       "      <td>3.0</td>\n",
       "      <td>0.0001</td>\n",
       "      <td>16</td>\n",
       "      <td>3</td>\n",
       "      <td>765.353246</td>\n",
       "      <td>0.472427</td>\n",
       "    </tr>\n",
       "    <tr>\n",
       "      <th>6</th>\n",
       "      <td>0.285439</td>\n",
       "      <td>0.885</td>\n",
       "      <td>0.885028</td>\n",
       "      <td>27.2933</td>\n",
       "      <td>36.639</td>\n",
       "      <td>1.172</td>\n",
       "      <td>2.0</td>\n",
       "      <td>0.0002</td>\n",
       "      <td>16</td>\n",
       "      <td>2</td>\n",
       "      <td>593.853844</td>\n",
       "      <td>0.500793</td>\n",
       "    </tr>\n",
       "    <tr>\n",
       "      <th>4</th>\n",
       "      <td>0.296096</td>\n",
       "      <td>0.885</td>\n",
       "      <td>0.885004</td>\n",
       "      <td>23.7549</td>\n",
       "      <td>42.097</td>\n",
       "      <td>2.652</td>\n",
       "      <td>2.0</td>\n",
       "      <td>0.0002</td>\n",
       "      <td>8</td>\n",
       "      <td>2</td>\n",
       "      <td>542.630976</td>\n",
       "      <td>0.486832</td>\n",
       "    </tr>\n",
       "    <tr>\n",
       "      <th>1</th>\n",
       "      <td>0.302045</td>\n",
       "      <td>0.883</td>\n",
       "      <td>0.882988</td>\n",
       "      <td>24.4603</td>\n",
       "      <td>40.883</td>\n",
       "      <td>2.576</td>\n",
       "      <td>3.0</td>\n",
       "      <td>0.0001</td>\n",
       "      <td>8</td>\n",
       "      <td>3</td>\n",
       "      <td>812.910815</td>\n",
       "      <td>0.460526</td>\n",
       "    </tr>\n",
       "    <tr>\n",
       "      <th>0</th>\n",
       "      <td>0.301643</td>\n",
       "      <td>0.882</td>\n",
       "      <td>0.882007</td>\n",
       "      <td>22.6342</td>\n",
       "      <td>44.181</td>\n",
       "      <td>2.783</td>\n",
       "      <td>2.0</td>\n",
       "      <td>0.0001</td>\n",
       "      <td>8</td>\n",
       "      <td>2</td>\n",
       "      <td>557.498552</td>\n",
       "      <td>0.490982</td>\n",
       "    </tr>\n",
       "    <tr>\n",
       "      <th>2</th>\n",
       "      <td>0.306138</td>\n",
       "      <td>0.876</td>\n",
       "      <td>0.876019</td>\n",
       "      <td>26.1407</td>\n",
       "      <td>38.255</td>\n",
       "      <td>1.224</td>\n",
       "      <td>2.0</td>\n",
       "      <td>0.0001</td>\n",
       "      <td>16</td>\n",
       "      <td>2</td>\n",
       "      <td>558.333246</td>\n",
       "      <td>0.471176</td>\n",
       "    </tr>\n",
       "  </tbody>\n",
       "</table>\n",
       "</div>"
      ],
      "text/plain": [
       "    eval_loss  eval_accuracy   eval_f1  eval_runtime  eval_samples_per_second  \\\n",
       "11   0.279452          0.898  0.897985       27.1408                   36.845   \n",
       "7    0.279422          0.892  0.891993       31.2565                   31.993   \n",
       "10   0.272578          0.889  0.889019       40.6278                   24.614   \n",
       "9    0.332749          0.888  0.887974       31.7452                   31.501   \n",
       "8    0.290059          0.887  0.887010       28.4719                   35.122   \n",
       "5    0.315349          0.887  0.886958       31.3864                   31.861   \n",
       "3    0.287599          0.886  0.886000       21.9715                   45.513   \n",
       "6    0.285439          0.885  0.885028       27.2933                   36.639   \n",
       "4    0.296096          0.885  0.885004       23.7549                   42.097   \n",
       "1    0.302045          0.883  0.882988       24.4603                   40.883   \n",
       "0    0.301643          0.882  0.882007       22.6342                   44.181   \n",
       "2    0.306138          0.876  0.876019       26.1407                   38.255   \n",
       "\n",
       "    eval_steps_per_second  epoch      lr  bs  ep       time_s  peak_mem_gb  \n",
       "11                  1.179    3.0  0.0005  16   3  1184.586756     0.485428  \n",
       "7                   1.024    3.0  0.0002  16   3   929.191971     0.461761  \n",
       "10                  0.788    2.0  0.0005  16   2   647.679255     0.483154  \n",
       "9                   1.985    3.0  0.0005   8   3   951.619254     0.495331  \n",
       "8                   2.213    2.0  0.0005   8   2   629.560728     0.439865  \n",
       "5                   2.007    3.0  0.0002   8   3   913.214977     0.484497  \n",
       "3                   1.456    3.0  0.0001  16   3   765.353246     0.472427  \n",
       "6                   1.172    2.0  0.0002  16   2   593.853844     0.500793  \n",
       "4                   2.652    2.0  0.0002   8   2   542.630976     0.486832  \n",
       "1                   2.576    3.0  0.0001   8   3   812.910815     0.460526  \n",
       "0                   2.783    2.0  0.0001   8   2   557.498552     0.490982  \n",
       "2                   1.224    2.0  0.0001  16   2   558.333246     0.471176  "
      ]
     },
     "metadata": {},
     "output_type": "display_data"
    },
    {
     "name": "stdout",
     "output_type": "stream",
     "text": [
      "🏆 Best LoRA hyperparams: {'eval_loss': 0.2794516682624817, 'eval_accuracy': 0.898, 'eval_f1': 0.8979852929396498, 'eval_runtime': 27.1408, 'eval_samples_per_second': 36.845, 'eval_steps_per_second': 1.179, 'epoch': 3.0, 'lr': 0.0005, 'bs': 16.0, 'ep': 3.0, 'time_s': 1184.5867557525635, 'peak_mem_gb': 0.4854278564453125}\n"
     ]
    }
   ],
   "source": [
    "# ---------------------------------------------------------------\n",
    "# STEP 7: Hyperparameter tuning (validation) for LoRA (PEFT).\n",
    "# ---------------------------------------------------------------\n",
    "param_grid_lora = {\n",
    "    \"learning_rate\": [1e-4, 2e-4, 5e-4],\n",
    "    \"per_device_train_batch_size\": [8, 16],\n",
    "    \"num_train_epochs\": [2, 3],\n",
    "}\n",
    "\n",
    "results_lora = []\n",
    "for lr in param_grid_lora[\"learning_rate\"]:\n",
    "    for bs in param_grid_lora[\"per_device_train_batch_size\"]:\n",
    "        for ep in param_grid_lora[\"num_train_epochs\"]:\n",
    "            print(f\"\\n⚙️ LoRA trial  lr={lr}, bs={bs}, epochs={ep}\")\n",
    "\n",
    "            args = TrainingArguments(\n",
    "                output_dir=\"./temp_tuning\",        \n",
    "                overwrite_output_dir=True,         \n",
    "                eval_strategy=\"epoch\",\n",
    "                save_strategy=\"no\",                # don't save checkpoints\n",
    "                logging_strategy=\"no\",            \n",
    "                learning_rate=lr,\n",
    "                per_device_train_batch_size=bs,\n",
    "                per_device_eval_batch_size=bs*2,\n",
    "                num_train_epochs=ep,\n",
    "                weight_decay=0.01,\n",
    "                fp16=False, bf16=False,           \n",
    "                report_to=\"none\",\n",
    "                use_mps_device=True,               # prefer Apple GPU\n",
    "            )\n",
    "            \n",
    "            base = AutoModelForSequenceClassification.from_pretrained(MODEL_NAME, num_labels=2)\n",
    "            lora_cfg = LoraConfig(\n",
    "                r=8, lora_alpha=16, target_modules=[\"q_lin\",\"v_lin\"], lora_dropout=0.1,\n",
    "                bias=\"none\", task_type=\"SEQ_CLS\"\n",
    "            )\n",
    "            model = get_peft_model(base, lora_cfg)\n",
    "            \n",
    "            trainer = Trainer(\n",
    "                model=model,\n",
    "                args=args,\n",
    "                train_dataset=tokenized[\"train\"],\n",
    "                eval_dataset=tokenized[\"validation\"],\n",
    "                tokenizer=tokenizer,\n",
    "                compute_metrics=compute_metrics,\n",
    "            )\n",
    "            \n",
    "            # --- efficiency tracking (time + memory) ---\n",
    "            with profile_run(DEVICE) as prof:\n",
    "                trainer.train()\n",
    "            \n",
    "            # collect validation results + profiling info\n",
    "            val = trainer.evaluate()\n",
    "            val.update({\n",
    "                \"lr\": lr,\n",
    "                \"bs\": bs,\n",
    "                \"ep\": ep,\n",
    "                \"time_s\": prof[\"time_s\"],\n",
    "                \"peak_mem_gb\": prof[\"peak_mem_gb\"],\n",
    "            })\n",
    "            if prof[\"peak_vram_gb\"] is not None:      # will be None on MPS, set on CUDA\n",
    "                val[\"peak_vram_gb\"] = prof[\"peak_vram_gb\"]\n",
    "            \n",
    "            results_lora.append(val)\n",
    "\n",
    "\n",
    "df_lora = pd.DataFrame(results_lora).sort_values(\"eval_f1\", ascending=False)\n",
    "display(df_lora)\n",
    "best_lora = df_lora.iloc[0].to_dict()\n",
    "print(\"🏆 Best LoRA hyperparams:\", best_lora)"
   ]
  },
  {
   "cell_type": "markdown",
   "id": "b6412336-2d3b-4268-9cd8-ec5363c20f59",
   "metadata": {},
   "source": [
    "# 8. Model Evaluation"
   ]
  },
  {
   "cell_type": "code",
   "execution_count": 8,
   "id": "e243eff8-692c-41aa-870f-0ed100ff371b",
   "metadata": {},
   "outputs": [
    {
     "name": "stderr",
     "output_type": "stream",
     "text": [
      "/Users/fongkangwei/nus/ay25_26/dsa4213/envs/transformer/lib/python3.13/site-packages/transformers/training_args.py:2298: UserWarning: `use_mps_device` is deprecated and will be removed in version 5.0 of 🤗 Transformers. `mps` device will be used by default if available similar to the way `cuda` device is used.Therefore, no action from user is required. \n",
      "  warnings.warn(\n",
      "Some weights of DistilBertForSequenceClassification were not initialized from the model checkpoint at distilbert-base-uncased and are newly initialized: ['classifier.bias', 'classifier.weight', 'pre_classifier.bias', 'pre_classifier.weight']\n",
      "You should probably TRAIN this model on a down-stream task to be able to use it for predictions and inference.\n",
      "/var/folders/6w/v4mx5hzn5z35dk5rqf7nc9nh0000gn/T/ipykernel_1199/1998086793.py:28: FutureWarning: `tokenizer` is deprecated and will be removed in version 5.0.0 for `Trainer.__init__`. Use `processing_class` instead.\n",
      "  trainer_full_final = Trainer(\n",
      "/Users/fongkangwei/nus/ay25_26/dsa4213/envs/transformer/lib/python3.13/site-packages/torch/utils/data/dataloader.py:684: UserWarning: 'pin_memory' argument is set as true but not supported on MPS now, then device pinned memory won't be used.\n",
      "  warnings.warn(warn_msg)\n"
     ]
    },
    {
     "data": {
      "text/html": [
       "\n",
       "    <div>\n",
       "      \n",
       "      <progress value='500' max='500' style='width:300px; height:20px; vertical-align: middle;'></progress>\n",
       "      [500/500 13:27, Epoch 2/2]\n",
       "    </div>\n",
       "    <table border=\"1\" class=\"dataframe\">\n",
       "  <thead>\n",
       " <tr style=\"text-align: left;\">\n",
       "      <th>Epoch</th>\n",
       "      <th>Training Loss</th>\n",
       "      <th>Validation Loss</th>\n",
       "      <th>Accuracy</th>\n",
       "      <th>F1</th>\n",
       "    </tr>\n",
       "  </thead>\n",
       "  <tbody>\n",
       "    <tr>\n",
       "      <td>1</td>\n",
       "      <td>No log</td>\n",
       "      <td>0.292992</td>\n",
       "      <td>0.882000</td>\n",
       "      <td>0.881821</td>\n",
       "    </tr>\n",
       "    <tr>\n",
       "      <td>2</td>\n",
       "      <td>0.310700</td>\n",
       "      <td>0.284293</td>\n",
       "      <td>0.898000</td>\n",
       "      <td>0.897985</td>\n",
       "    </tr>\n",
       "  </tbody>\n",
       "</table><p>"
      ],
      "text/plain": [
       "<IPython.core.display.HTML object>"
      ]
     },
     "metadata": {},
     "output_type": "display_data"
    },
    {
     "name": "stderr",
     "output_type": "stream",
     "text": [
      "/Users/fongkangwei/nus/ay25_26/dsa4213/envs/transformer/lib/python3.13/site-packages/torch/utils/data/dataloader.py:684: UserWarning: 'pin_memory' argument is set as true but not supported on MPS now, then device pinned memory won't be used.\n",
      "  warnings.warn(warn_msg)\n",
      "/Users/fongkangwei/nus/ay25_26/dsa4213/envs/transformer/lib/python3.13/site-packages/torch/utils/data/dataloader.py:684: UserWarning: 'pin_memory' argument is set as true but not supported on MPS now, then device pinned memory won't be used.\n",
      "  warnings.warn(warn_msg)\n"
     ]
    },
    {
     "data": {
      "text/html": [],
      "text/plain": [
       "<IPython.core.display.HTML object>"
      ]
     },
     "metadata": {},
     "output_type": "display_data"
    },
    {
     "name": "stdout",
     "output_type": "stream",
     "text": [
      "🧪 Full-FT (test): {'eval_loss': 0.31185925006866455, 'eval_accuracy': 0.874, 'eval_f1': 0.8739571557155716, 'eval_runtime': 26.7507, 'eval_samples_per_second': 37.382, 'eval_steps_per_second': 1.196, 'epoch': 2.0} | time_s: 809.21 | peak_mem_gb: 0.57 | peak_vram_gb: N/A\n"
     ]
    },
    {
     "name": "stderr",
     "output_type": "stream",
     "text": [
      "/Users/fongkangwei/nus/ay25_26/dsa4213/envs/transformer/lib/python3.13/site-packages/transformers/training_args.py:2298: UserWarning: `use_mps_device` is deprecated and will be removed in version 5.0 of 🤗 Transformers. `mps` device will be used by default if available similar to the way `cuda` device is used.Therefore, no action from user is required. \n",
      "  warnings.warn(\n",
      "Some weights of DistilBertForSequenceClassification were not initialized from the model checkpoint at distilbert-base-uncased and are newly initialized: ['classifier.bias', 'classifier.weight', 'pre_classifier.bias', 'pre_classifier.weight']\n",
      "You should probably TRAIN this model on a down-stream task to be able to use it for predictions and inference.\n",
      "/var/folders/6w/v4mx5hzn5z35dk5rqf7nc9nh0000gn/T/ipykernel_1199/1998086793.py:83: FutureWarning: `tokenizer` is deprecated and will be removed in version 5.0.0 for `Trainer.__init__`. Use `processing_class` instead.\n",
      "  trainer_lora_final = Trainer(\n",
      "/Users/fongkangwei/nus/ay25_26/dsa4213/envs/transformer/lib/python3.13/site-packages/torch/utils/data/dataloader.py:684: UserWarning: 'pin_memory' argument is set as true but not supported on MPS now, then device pinned memory won't be used.\n",
      "  warnings.warn(warn_msg)\n"
     ]
    },
    {
     "data": {
      "text/html": [
       "\n",
       "    <div>\n",
       "      \n",
       "      <progress value='750' max='750' style='width:300px; height:20px; vertical-align: middle;'></progress>\n",
       "      [750/750 14:09, Epoch 3/3]\n",
       "    </div>\n",
       "    <table border=\"1\" class=\"dataframe\">\n",
       "  <thead>\n",
       " <tr style=\"text-align: left;\">\n",
       "      <th>Epoch</th>\n",
       "      <th>Training Loss</th>\n",
       "      <th>Validation Loss</th>\n",
       "      <th>Accuracy</th>\n",
       "      <th>F1</th>\n",
       "    </tr>\n",
       "  </thead>\n",
       "  <tbody>\n",
       "    <tr>\n",
       "      <td>1</td>\n",
       "      <td>No log</td>\n",
       "      <td>0.290666</td>\n",
       "      <td>0.885000</td>\n",
       "      <td>0.885004</td>\n",
       "    </tr>\n",
       "    <tr>\n",
       "      <td>2</td>\n",
       "      <td>0.327800</td>\n",
       "      <td>0.271040</td>\n",
       "      <td>0.894000</td>\n",
       "      <td>0.893966</td>\n",
       "    </tr>\n",
       "    <tr>\n",
       "      <td>3</td>\n",
       "      <td>0.327800</td>\n",
       "      <td>0.279452</td>\n",
       "      <td>0.898000</td>\n",
       "      <td>0.897985</td>\n",
       "    </tr>\n",
       "  </tbody>\n",
       "</table><p>"
      ],
      "text/plain": [
       "<IPython.core.display.HTML object>"
      ]
     },
     "metadata": {},
     "output_type": "display_data"
    },
    {
     "name": "stderr",
     "output_type": "stream",
     "text": [
      "/Users/fongkangwei/nus/ay25_26/dsa4213/envs/transformer/lib/python3.13/site-packages/torch/utils/data/dataloader.py:684: UserWarning: 'pin_memory' argument is set as true but not supported on MPS now, then device pinned memory won't be used.\n",
      "  warnings.warn(warn_msg)\n",
      "/Users/fongkangwei/nus/ay25_26/dsa4213/envs/transformer/lib/python3.13/site-packages/torch/utils/data/dataloader.py:684: UserWarning: 'pin_memory' argument is set as true but not supported on MPS now, then device pinned memory won't be used.\n",
      "  warnings.warn(warn_msg)\n",
      "/Users/fongkangwei/nus/ay25_26/dsa4213/envs/transformer/lib/python3.13/site-packages/torch/utils/data/dataloader.py:684: UserWarning: 'pin_memory' argument is set as true but not supported on MPS now, then device pinned memory won't be used.\n",
      "  warnings.warn(warn_msg)\n"
     ]
    },
    {
     "data": {
      "text/html": [],
      "text/plain": [
       "<IPython.core.display.HTML object>"
      ]
     },
     "metadata": {},
     "output_type": "display_data"
    },
    {
     "name": "stdout",
     "output_type": "stream",
     "text": [
      "🧪 LoRA (test): {'eval_loss': 0.3149820864200592, 'eval_accuracy': 0.883, 'eval_f1': 0.8829830345758644, 'eval_runtime': 25.1407, 'eval_samples_per_second': 39.776, 'eval_steps_per_second': 1.273, 'epoch': 3.0} | time_s: 850.07 | peak_mem_gb: 0.46 | peak_vram_gb: N/A\n"
     ]
    }
   ],
   "source": [
    "# ---------------------------------------------------------------\n",
    "# STEP 8: Retrain Full-FT with best hyperparams and evaluate on TEST.\n",
    "# We record wall-clock time (seconds) for efficiency comparison.\n",
    "# ---------------------------------------------------------------\n",
    "best_lr_f  = float(best_full[\"lr\"])\n",
    "best_bs_f  = int(best_full[\"bs\"])\n",
    "best_ep_f  = int(best_full[\"ep\"])\n",
    "\n",
    "args_full_final = TrainingArguments(\n",
    "    output_dir=\"./ft_final\",\n",
    "    eval_strategy=\"epoch\",\n",
    "    save_strategy=\"epoch\",\n",
    "    learning_rate=best_lr_f,\n",
    "    per_device_train_batch_size=best_bs_f,\n",
    "    per_device_eval_batch_size=best_bs_f*2,\n",
    "    num_train_epochs=best_ep_f,\n",
    "    weight_decay=0.01,\n",
    "    fp16=False, bf16=False,\n",
    "    logging_dir=\"./ft_final_logs\",\n",
    "    report_to=\"none\",\n",
    "    use_mps_device=True,\n",
    "    load_best_model_at_end=True,\n",
    "    metric_for_best_model=\"f1\",\n",
    "    greater_is_better=True,\n",
    ")\n",
    "\n",
    "model_full_final = AutoModelForSequenceClassification.from_pretrained(MODEL_NAME, num_labels=2)\n",
    "trainer_full_final = Trainer(\n",
    "    model=model_full_final,\n",
    "    args=args_full_final,\n",
    "    train_dataset=tokenized[\"train\"],\n",
    "    eval_dataset=tokenized[\"validation\"],\n",
    "    tokenizer=tokenizer,\n",
    "    compute_metrics=compute_metrics,\n",
    ")\n",
    "\n",
    "# --- efficiency profiling: wall time + peak memory (RSS on MPS/CPU, VRAM on CUDA) ---\n",
    "with profile_run(DEVICE) as prof_full:\n",
    "    trainer_full_final.train()\n",
    "\n",
    "full_time_s  = prof_full[\"time_s\"]\n",
    "full_mem_gb  = prof_full[\"peak_mem_gb\"]\n",
    "full_vram_gb = prof_full.get(\"peak_vram_gb\") \n",
    "\n",
    "full_test = trainer_full_final.evaluate(tokenized[\"test\"])\n",
    "print(\"🧪 Full-FT (test):\", full_test,\n",
    "      \"| time_s:\", round(full_time_s, 2),\n",
    "      \"| peak_mem_gb:\", f\"{full_mem_gb:.2f}\",\n",
    "      \"| peak_vram_gb:\", f\"{full_vram_gb:.2f}\" if full_vram_gb is not None else \"N/A\")\n",
    "\n",
    "\n",
    "\n",
    "# ---------------------------------------------------------------\n",
    "# STEP 8b: Retrain LoRA with best hyperparams and evaluate on TEST.\n",
    "# ---------------------------------------------------------------\n",
    "best_lr_l  = float(best_lora[\"lr\"])\n",
    "best_bs_l  = int(best_lora[\"bs\"])\n",
    "best_ep_l  = int(best_lora[\"ep\"])\n",
    "\n",
    "args_lora_final = TrainingArguments(\n",
    "    output_dir=\"./lora_final\",\n",
    "    eval_strategy=\"epoch\",\n",
    "    save_strategy=\"epoch\",\n",
    "    learning_rate=best_lr_l,\n",
    "    per_device_train_batch_size=best_bs_l,\n",
    "    per_device_eval_batch_size=best_bs_l*2,\n",
    "    num_train_epochs=best_ep_l,\n",
    "    weight_decay=0.01,\n",
    "    fp16=False, bf16=False,\n",
    "    logging_dir=\"./lora_final_logs\",\n",
    "    report_to=\"none\",\n",
    "    use_mps_device=True,\n",
    "    load_best_model_at_end=True,\n",
    "    metric_for_best_model=\"f1\",\n",
    "    greater_is_better=True,\n",
    ")\n",
    "\n",
    "base = AutoModelForSequenceClassification.from_pretrained(MODEL_NAME, num_labels=2)\n",
    "cfg = LoraConfig(r=8, lora_alpha=16, target_modules=[\"q_lin\",\"v_lin\"], lora_dropout=0.1,\n",
    "                 bias=\"none\", task_type=\"SEQ_CLS\")\n",
    "model_lora_final = get_peft_model(base, cfg)\n",
    "\n",
    "trainer_lora_final = Trainer(\n",
    "    model=model_lora_final,\n",
    "    args=args_lora_final,\n",
    "    train_dataset=tokenized[\"train\"],\n",
    "    eval_dataset=tokenized[\"validation\"],\n",
    "    tokenizer=tokenizer,\n",
    "    compute_metrics=compute_metrics,\n",
    ")\n",
    "\n",
    "# --- efficiency profiling: wall time + peak memory (RSS on MPS/CPU, VRAM on CUDA) ---\n",
    "with profile_run(DEVICE) as prof_lora:\n",
    "    trainer_lora_final.train()\n",
    "\n",
    "lora_time_s  = prof_lora[\"time_s\"]\n",
    "lora_mem_gb  = prof_lora[\"peak_mem_gb\"]\n",
    "lora_vram_gb = prof_lora.get(\"peak_vram_gb\")\n",
    "\n",
    "lora_test = trainer_lora_final.evaluate(tokenized[\"test\"])\n",
    "print(\"🧪 LoRA (test):\", lora_test,\n",
    "      \"| time_s:\", round(lora_time_s, 2),\n",
    "      \"| peak_mem_gb:\", f\"{lora_mem_gb:.2f}\",\n",
    "      \"| peak_vram_gb:\", f\"{lora_vram_gb:.2f}\" if lora_vram_gb is not None else \"N/A\")"
   ]
  },
  {
   "cell_type": "markdown",
   "id": "714b9f07-ad96-469d-84cd-5da9946fc2ce",
   "metadata": {},
   "source": [
    "# 9. Compare Results"
   ]
  },
  {
   "cell_type": "markdown",
   "id": "aad96bf2-9172-41b3-93b0-7e7134e77f0b",
   "metadata": {},
   "source": [
    "## 9.1 Visualise Accuracy and F1"
   ]
  },
  {
   "cell_type": "code",
   "execution_count": 9,
   "id": "a97ea93d-dc99-4737-99f9-47b9e8a50404",
   "metadata": {},
   "outputs": [
    {
     "data": {
      "image/png": "[encoded data removed]",
      "text/plain": [
       "<Figure size 640x480 with 1 Axes>"
      ]
     },
     "metadata": {},
     "output_type": "display_data"
    }
   ],
   "source": [
    "# ---------------------------------------------------------------\n",
    "# STEP 9: Visualize Accuracy and F1 (TEST) for Full-FT vs LoRA.\n",
    "# ---------------------------------------------------------------\n",
    "labels = [\"Accuracy\", \"F1 (weighted)\"]\n",
    "full_vals = [full_test[\"eval_accuracy\"]*100, full_test[\"eval_f1\"]*100]\n",
    "lora_vals = [lora_test[\"eval_accuracy\"]*100, lora_test[\"eval_f1\"]*100]\n",
    "\n",
    "x = np.arange(len(labels)); width = 0.35\n",
    "fig, ax = plt.subplots()\n",
    "ax.bar(x - width/2, full_vals, width, label=\"Full FT\")\n",
    "ax.bar(x + width/2, lora_vals, width, label=\"LoRA\")\n",
    "ax.set_xticks(x); ax.set_xticklabels(labels)\n",
    "ax.set_ylabel(\"Score (%)\"); ax.set_ylim(0, 100)\n",
    "ax.legend()\n",
    "plt.title(\"IMDb Test Metrics: Full Fine-Tuning vs LoRA\")\n",
    "plt.show()"
   ]
  },
  {
   "cell_type": "markdown",
   "id": "0fa6786d-9d47-409e-9065-bf49022caea5",
   "metadata": {},
   "source": [
    "## 9.2 Confusion Matrices and Classification Reports"
   ]
  },
  {
   "cell_type": "code",
   "execution_count": 10,
   "id": "27593ed4-2837-420b-8684-a12947d8a26a",
   "metadata": {},
   "outputs": [
    {
     "name": "stderr",
     "output_type": "stream",
     "text": [
      "/Users/fongkangwei/nus/ay25_26/dsa4213/envs/transformer/lib/python3.13/site-packages/torch/utils/data/dataloader.py:684: UserWarning: 'pin_memory' argument is set as true but not supported on MPS now, then device pinned memory won't be used.\n",
      "  warnings.warn(warn_msg)\n"
     ]
    },
    {
     "name": "stdout",
     "output_type": "stream",
     "text": [
      "\n",
      "=== Full Fine-Tuning — Classification Report ===\n",
      "              precision    recall  f1-score   support\n",
      "\n",
      "    negative     0.9038    0.8438    0.8727       512\n",
      "    positive     0.8467    0.9057    0.8752       488\n",
      "\n",
      "    accuracy                         0.8740      1000\n",
      "   macro avg     0.8753    0.8747    0.8740      1000\n",
      "weighted avg     0.8759    0.8740    0.8740      1000\n",
      "\n"
     ]
    },
    {
     "data": {
      "image/png": "[encoded data removed]",
      "text/plain": [
       "<Figure size 640x480 with 1 Axes>"
      ]
     },
     "metadata": {},
     "output_type": "display_data"
    },
    {
     "name": "stderr",
     "output_type": "stream",
     "text": [
      "/Users/fongkangwei/nus/ay25_26/dsa4213/envs/transformer/lib/python3.13/site-packages/torch/utils/data/dataloader.py:684: UserWarning: 'pin_memory' argument is set as true but not supported on MPS now, then device pinned memory won't be used.\n",
      "  warnings.warn(warn_msg)\n"
     ]
    },
    {
     "name": "stdout",
     "output_type": "stream",
     "text": [
      "\n",
      "=== LoRA — Classification Report ===\n",
      "              precision    recall  f1-score   support\n",
      "\n",
      "    negative     0.9089    0.8574    0.8824       512\n",
      "    positive     0.8588    0.9098    0.8836       488\n",
      "\n",
      "    accuracy                         0.8830      1000\n",
      "   macro avg     0.8839    0.8836    0.8830      1000\n",
      "weighted avg     0.8845    0.8830    0.8830      1000\n",
      "\n"
     ]
    },
    {
     "data": {
      "image/png": "[encoded data removed]",
      "text/plain": [
       "<Figure size 640x480 with 1 Axes>"
      ]
     },
     "metadata": {},
     "output_type": "display_data"
    }
   ],
   "source": [
    "# ---------------------------------------------------------------\n",
    "# STEP 10: Confusion matrices AND classification reports\n",
    "# for both strategies on the TEST set.\n",
    "# ---------------------------------------------------------------\n",
    "def preds_for(trainer, split):\n",
    "    pred_out = trainer.predict(split)\n",
    "    y_true = pred_out.label_ids\n",
    "    y_pred = np.argmax(pred_out.predictions, axis=1)\n",
    "    return y_true, y_pred\n",
    "\n",
    "def cm_and_report(y_true, y_pred, title):\n",
    "    # Classification report (precision/recall/F1 per class)\n",
    "    print(f\"\\n=== {title} — Classification Report ===\")\n",
    "    print(classification_report(y_true, y_pred, target_names=[\"negative\",\"positive\"], digits=4))\n",
    "    # Confusion matrix plot\n",
    "    cm = confusion_matrix(y_true, y_pred, labels=[0,1])\n",
    "    disp = ConfusionMatrixDisplay(cm, display_labels=[\"negative\",\"positive\"])\n",
    "    fig, ax = plt.subplots()\n",
    "    disp.plot(ax=ax, values_format=\"d\", colorbar=False)\n",
    "    plt.title(f\"{title} — Confusion Matrix (Test)\")\n",
    "    plt.show()\n",
    "\n",
    "# Full-FT\n",
    "y_true_full, y_pred_full = preds_for(trainer_full_final, tokenized[\"test\"])\n",
    "cm_and_report(y_true_full, y_pred_full, \"Full Fine-Tuning\")\n",
    "\n",
    "# LoRA\n",
    "y_true_lora, y_pred_lora = preds_for(trainer_lora_final, tokenized[\"test\"])\n",
    "cm_and_report(y_true_lora, y_pred_lora, \"LoRA\")\n"
   ]
  },
  {
   "cell_type": "markdown",
   "id": "c25030f3-d8b9-4c4e-b563-168f195da7e4",
   "metadata": {},
   "source": [
    "## 9.3 Error Cases"
   ]
  },
  {
   "cell_type": "code",
   "execution_count": 11,
   "id": "555e4a81-924e-4117-8ecd-c3a254dbb340",
   "metadata": {},
   "outputs": [
    {
     "name": "stdout",
     "output_type": "stream",
     "text": [
      "\n",
      "=== Full Fine-Tuning — 10 Misclassified Samples ===\n",
      "\n",
      "True=negative | Pred=positive\n",
      "Coming from Kiarostami, this art-house visual and sound exposition is a surprise. For a director known for his narratives and keen observation of humans, especially children, this excursion into minimalist cinematography begs for questions: Why did he do it? Was it to keep him busy during a vacation at the shore? <br /><br />\"Five, 5 Long Takes\" consists of, you guessed it, five long takes. They a ...\n",
      "\n",
      "\n",
      "True=negative | Pred=positive\n",
      "Intended as light entertainment, this film is indeed successful as such during its first half, but then succumbs to a rapidly foundering script that drops it down. Harry (Judd Nelson), a \"reformed\" burglar, and Daphne (Gina Gershon), an aspiring actress, are employed as live window mannequins at a department store where one evening they are late in leaving and are locked within, whereupon they wit ...\n",
      "\n",
      "\n",
      "True=negative | Pred=positive\n",
      "\"An astronaut (Michael Emmet) dies while returning from a mission and his body is recovered by the military. The base where the dead astronaut is taken to becomes the scene of a bizarre invasion plan from outer space. Alien embryos inside the dead astronaut resurrect the corpse and begin a terrifying assault on the military staff in the hopes of conquering the world,\" according to the DVD sleeve's ...\n",
      "\n",
      "\n",
      "True=negative | Pred=positive\n",
      "Lovely music. Beautiful photography, some of scenes are breathtaking and affecting. But the dramatic tension is lost in a film that is so poorly edited it is hard to know what exactly is going on. At times, the dialogue is incomprehensible. Then there is Richard Gere. He's supposed to be a factory worker who gets into trouble and gets work on a farm. We see dozens of farmhands sweaty and dirty in  ...\n",
      "\n",
      "\n",
      "True=negative | Pred=positive\n",
      "This is about some vampires (who can run around out in the sunlight), that are causing some problems down in South America. Casper Van Dien is sent in with his team of commandos to investigate. The movie opens with Van Dien & Co. walking through the jungle, and there's this huge black guy who just absolutely, positively cannot act. He speaks all his lines as if he's reading them off the cue-cards  ...\n",
      "\n",
      "\n",
      "True=negative | Pred=positive\n",
      "A not so good action thriller because it unsuccessfully trends the same water as early Steven Seagal films because there is not a very good set piece. Steven Seagal plays the same kind of character that he has played since Above the Law. In my opinion the performance of Keenen Ivory Wayans is wasted in such an average film and belongs in a much better film. Bob Gunton is okay as the main heavy. Th ...\n",
      "\n",
      "\n",
      "True=positive | Pred=negative\n",
      "I remember seeing this film in the mid 80's thought it a well paced and well acted piece. I now work quite often in Berkeley Square and the had to get a copy of DVD to remind myself how little the area has changed, although my office is newish it just 30 seconds away from \"the bank\". Even Jack Barclays car dealership is still there selling Bentleys and Rolls Royces.<br /><br />It's look like the D ...\n",
      "\n",
      "\n",
      "True=positive | Pred=negative\n",
      "Sex, drugs, racism and of course you ABC's. What more could you want in a kid's show!<br /><br />------------------------------------------- -------------------------------------------<br /><br />\"User Comment Guidelines <br /><br />Please note there is a 1,000 word limit on comments. The recommended length is 200 to 500 words. The minimum length for comments is 10 lines of text. Comments which ar ...\n",
      "\n",
      "\n",
      "True=negative | Pred=positive\n",
      "I used to always love the bill because of its great script and characters, but lately i feel as though it has turned into an emotional type of soap. If you look at promotional pictures/posters of the bill now you will see either two of the officers hugging/kissing or something to do with friendships whereas promotional pictures of the bill a long time ago would have shown something to do with crim ...\n",
      "\n",
      "\n",
      "True=negative | Pred=positive\n",
      "A truly masterful piece of filmmaking. It managed to put me to sleep and to boggle my mind. So boring that it induces sleep and yet so ludicrous that it made me wonder how stuff like this gets made. Avoid at all costs. That is, unless you like taking invisible cranial punishment, in which case I highly recommend it. ...\n",
      "\n",
      "\n",
      "=== LoRA — 10 Misclassified Samples ===\n",
      "\n",
      "True=negative | Pred=positive\n",
      "Coming from Kiarostami, this art-house visual and sound exposition is a surprise. For a director known for his narratives and keen observation of humans, especially children, this excursion into minimalist cinematography begs for questions: Why did he do it? Was it to keep him busy during a vacation at the shore? <br /><br />\"Five, 5 Long Takes\" consists of, you guessed it, five long takes. They a ...\n",
      "\n",
      "\n",
      "True=negative | Pred=positive\n",
      "Intended as light entertainment, this film is indeed successful as such during its first half, but then succumbs to a rapidly foundering script that drops it down. Harry (Judd Nelson), a \"reformed\" burglar, and Daphne (Gina Gershon), an aspiring actress, are employed as live window mannequins at a department store where one evening they are late in leaving and are locked within, whereupon they wit ...\n",
      "\n",
      "\n",
      "True=negative | Pred=positive\n",
      "\"An astronaut (Michael Emmet) dies while returning from a mission and his body is recovered by the military. The base where the dead astronaut is taken to becomes the scene of a bizarre invasion plan from outer space. Alien embryos inside the dead astronaut resurrect the corpse and begin a terrifying assault on the military staff in the hopes of conquering the world,\" according to the DVD sleeve's ...\n",
      "\n",
      "\n",
      "True=negative | Pred=positive\n",
      "Lovely music. Beautiful photography, some of scenes are breathtaking and affecting. But the dramatic tension is lost in a film that is so poorly edited it is hard to know what exactly is going on. At times, the dialogue is incomprehensible. Then there is Richard Gere. He's supposed to be a factory worker who gets into trouble and gets work on a farm. We see dozens of farmhands sweaty and dirty in  ...\n",
      "\n",
      "\n",
      "True=negative | Pred=positive\n",
      "This is about some vampires (who can run around out in the sunlight), that are causing some problems down in South America. Casper Van Dien is sent in with his team of commandos to investigate. The movie opens with Van Dien & Co. walking through the jungle, and there's this huge black guy who just absolutely, positively cannot act. He speaks all his lines as if he's reading them off the cue-cards  ...\n",
      "\n",
      "\n",
      "True=positive | Pred=negative\n",
      "Sex, drugs, racism and of course you ABC's. What more could you want in a kid's show!<br /><br />------------------------------------------- -------------------------------------------<br /><br />\"User Comment Guidelines <br /><br />Please note there is a 1,000 word limit on comments. The recommended length is 200 to 500 words. The minimum length for comments is 10 lines of text. Comments which ar ...\n",
      "\n",
      "\n",
      "True=negative | Pred=positive\n",
      "I used to always love the bill because of its great script and characters, but lately i feel as though it has turned into an emotional type of soap. If you look at promotional pictures/posters of the bill now you will see either two of the officers hugging/kissing or something to do with friendships whereas promotional pictures of the bill a long time ago would have shown something to do with crim ...\n",
      "\n",
      "\n",
      "True=positive | Pred=negative\n",
      "i was having a horrid day but this movie grabbed me, and i couldn't put it down until the end... and i had forgotten about my horrid day. and the ending... by the way... where is the sequel!!!<br /><br />the budget is obviously extremely low... but ... look what they did with it! it reminds me of a play... they are basically working with a tent, a 'escape pod', a few guns, uniforms, camping gear,  ...\n",
      "\n",
      "\n",
      "True=positive | Pred=negative\n",
      "Great cult flick for MST-3K types: Richard Boone is a mess -- bad hair, arthritis, even his dark glasses aren't right; about as good as a bad dino-flick can get... actually, that charging saber-toothed Styracosaurus was pretty cool -- maybe Spielberg should take a couple of notes from that one. ...\n",
      "\n",
      "\n",
      "True=negative | Pred=positive\n",
      "This is, without a doubt, the most hilarious movie I've ever seen. Seriously, if the makers of this movie are ever discovered, they'll put guys like Jim Carrey out of a job. Rent \"Jack-O\" tonight! Believe me, you won't regret it! ...\n",
      "\n"
     ]
    }
   ],
   "source": [
    "# ---------------------------------------------------------------\n",
    "# STEP 11: Show a few misclassified test examples for both models.\n",
    "# ---------------------------------------------------------------\n",
    "\n",
    "def show_misclassified(title, y_true, y_pred, dataset):\n",
    "    \"\"\"Print up to 10 misclassified reviews for inspection.\"\"\"\n",
    "    mis_idx = np.where(y_true != y_pred)[0][:10]\n",
    "    print(f\"\\n=== {title} — {len(mis_idx)} Misclassified Samples ===\")\n",
    "    for i in mis_idx:\n",
    "        review = dataset[\"test\"][i][\"text\"]\n",
    "        true_label = label_map[int(y_true[i])]\n",
    "        pred_label = label_map[int(y_pred[i])]\n",
    "        print(f\"\\nTrue={true_label} | Pred={pred_label}\")\n",
    "        print(review[:400].replace(\"\\n\",\" \"), \"...\\n\")\n",
    "\n",
    "# Misclassified for Full Fine-Tuning\n",
    "show_misclassified(\"Full Fine-Tuning\", y_true_full, y_pred_full, dataset)\n",
    "\n",
    "# Misclassified for LoRA\n",
    "show_misclassified(\"LoRA\", y_true_lora, y_pred_lora, dataset)\n"
   ]
  },
  {
   "cell_type": "markdown",
   "id": "326d4c5a-9d84-4f09-90bb-95af4231a3a2",
   "metadata": {},
   "source": [
    "## 9.4 Efficiency and Results Summary"
   ]
  },
  {
   "cell_type": "code",
   "execution_count": 12,
   "id": "e129a611-617d-4089-ab77-9a9fd789f2e3",
   "metadata": {},
   "outputs": [
    {
     "data": {
      "text/html": [
       "<div>\n",
       "<style scoped>\n",
       "    .dataframe tbody tr th:only-of-type {\n",
       "        vertical-align: middle;\n",
       "    }\n",
       "\n",
       "    .dataframe tbody tr th {\n",
       "        vertical-align: top;\n",
       "    }\n",
       "\n",
       "    .dataframe thead th {\n",
       "        text-align: right;\n",
       "    }\n",
       "</style>\n",
       "<table border=\"1\" class=\"dataframe\">\n",
       "  <thead>\n",
       "    <tr style=\"text-align: right;\">\n",
       "      <th></th>\n",
       "      <th>model</th>\n",
       "      <th>acc</th>\n",
       "      <th>f1</th>\n",
       "      <th>time_s</th>\n",
       "      <th>peak_mem_gb</th>\n",
       "      <th>peak_vram_gb</th>\n",
       "      <th>best_lr</th>\n",
       "      <th>best_bs</th>\n",
       "      <th>best_ep</th>\n",
       "      <th>f1_per_sec</th>\n",
       "    </tr>\n",
       "  </thead>\n",
       "  <tbody>\n",
       "    <tr>\n",
       "      <th>0</th>\n",
       "      <td>Full-FT</td>\n",
       "      <td>0.874</td>\n",
       "      <td>0.873957</td>\n",
       "      <td>809.210654</td>\n",
       "      <td>0.566895</td>\n",
       "      <td>None</td>\n",
       "      <td>0.00002</td>\n",
       "      <td>16</td>\n",
       "      <td>2</td>\n",
       "      <td>0.001080</td>\n",
       "    </tr>\n",
       "    <tr>\n",
       "      <th>1</th>\n",
       "      <td>LoRA</td>\n",
       "      <td>0.883</td>\n",
       "      <td>0.882983</td>\n",
       "      <td>850.069254</td>\n",
       "      <td>0.455582</td>\n",
       "      <td>None</td>\n",
       "      <td>0.00050</td>\n",
       "      <td>16</td>\n",
       "      <td>3</td>\n",
       "      <td>0.001039</td>\n",
       "    </tr>\n",
       "  </tbody>\n",
       "</table>\n",
       "</div>"
      ],
      "text/plain": [
       "     model    acc        f1      time_s  peak_mem_gb peak_vram_gb  best_lr  \\\n",
       "0  Full-FT  0.874  0.873957  809.210654     0.566895         None  0.00002   \n",
       "1     LoRA  0.883  0.882983  850.069254     0.455582         None  0.00050   \n",
       "\n",
       "   best_bs  best_ep  f1_per_sec  \n",
       "0       16        2    0.001080  \n",
       "1       16        3    0.001039  "
      ]
     },
     "metadata": {},
     "output_type": "display_data"
    },
    {
     "data": {
      "image/png": "[encoded data removed]",
      "text/plain": [
       "<Figure size 640x480 with 1 Axes>"
      ]
     },
     "metadata": {},
     "output_type": "display_data"
    },
    {
     "data": {
      "image/png": "[encoded data removed]",
      "text/plain": [
       "<Figure size 640x480 with 1 Axes>"
      ]
     },
     "metadata": {},
     "output_type": "display_data"
    },
    {
     "data": {
      "image/png": "[encoded data removed]",
      "text/plain": [
       "<Figure size 640x480 with 1 Axes>"
      ]
     },
     "metadata": {},
     "output_type": "display_data"
    },
    {
     "name": "stdout",
     "output_type": "stream",
     "text": [
      "✅ Saved imdb_final_results.json\n",
      "✅ Saved imdb_final_summary.csv\n"
     ]
    }
   ],
   "source": [
    "# ---------------------------------------------------------------\n",
    "# STEP 12: Summarize efficiency & performance, plot, and save JSON.\n",
    "# ---------------------------------------------------------------\n",
    "\n",
    "# Build summary table (add peak memory + optional VRAM)\n",
    "summary = pd.DataFrame([\n",
    "    {\n",
    "        \"model\": \"Full-FT\",\n",
    "        \"acc\": full_test[\"eval_accuracy\"],\n",
    "        \"f1\": full_test[\"eval_f1\"],\n",
    "        \"time_s\": full_time_s,\n",
    "        \"peak_mem_gb\": full_mem_gb,\n",
    "        \"peak_vram_gb\": full_vram_gb if 'full_vram_gb' in globals() else None,\n",
    "        \"best_lr\": float(best_full[\"lr\"]),\n",
    "        \"best_bs\": int(best_full[\"bs\"]),\n",
    "        \"best_ep\": int(best_full[\"ep\"]),\n",
    "    },\n",
    "    {\n",
    "        \"model\": \"LoRA\",\n",
    "        \"acc\": lora_test[\"eval_accuracy\"],\n",
    "        \"f1\": lora_test[\"eval_f1\"],\n",
    "        \"time_s\": lora_time_s,\n",
    "        \"peak_mem_gb\": lora_mem_gb,\n",
    "        \"peak_vram_gb\": lora_vram_gb if 'lora_vram_gb' in globals() else None,\n",
    "        \"best_lr\": float(best_lora[\"lr\"]),\n",
    "        \"best_bs\": int(best_lora[\"bs\"]),\n",
    "        \"best_ep\": int(best_lora[\"ep\"]),\n",
    "    },\n",
    "])\n",
    "summary[\"f1_per_sec\"] = summary[\"f1\"] / summary[\"time_s\"]\n",
    "display(summary)\n",
    "\n",
    "# -----------------------------\n",
    "# Efficiency comparison plots\n",
    "# -----------------------------\n",
    "models = summary[\"model\"].tolist()\n",
    "\n",
    "# 1) Training Time (s)\n",
    "fig, ax = plt.subplots()\n",
    "ax.bar(models, summary[\"time_s\"].values)\n",
    "ax.set_ylabel(\"Time (s)\")\n",
    "ax.set_title(\"Training Time (lower is better)\")\n",
    "plt.show()\n",
    "\n",
    "# 2) Peak Memory (GB)\n",
    "fig, ax = plt.subplots()\n",
    "ax.bar(models, summary[\"peak_mem_gb\"].values)\n",
    "ax.set_ylabel(\"Peak Memory (GB)\")\n",
    "ax.set_title(\"Peak Memory During Training (lower is better)\")\n",
    "plt.show()\n",
    "\n",
    "# 3) F1 vs Time scatter (bubble size ~ peak memory GB)\n",
    "fig, ax = plt.subplots()\n",
    "for _, row in summary.iterrows():\n",
    "    ax.scatter(row[\"time_s\"], row[\"f1\"]*100, s=300*max(row[\"peak_mem_gb\"], 1e-6), label=row[\"model\"])\n",
    "ax.set_xlabel(\"Training Time (s)\")\n",
    "ax.set_ylabel(\"F1 (%)\")\n",
    "ax.set_title(\"F1 vs Time (bubble size ~ peak memory)\")\n",
    "# avoid duplicate labels in legend\n",
    "handles, labels = ax.get_legend_handles_labels()\n",
    "by_label = dict(zip(labels, handles))\n",
    "ax.legend(by_label.values(), by_label.keys())\n",
    "plt.show()\n",
    "\n",
    "# -----------------------------\n",
    "# Save JSON\n",
    "# -----------------------------\n",
    "final = {\n",
    "    \"Full_FT\": {\n",
    "        \"test_metrics\": full_test,\n",
    "        \"train_time_s\": float(full_time_s),\n",
    "        \"peak_mem_gb\": float(full_mem_gb),\n",
    "        \"peak_vram_gb\": (float(full_vram_gb) if ('full_vram_gb' in globals() and full_vram_gb is not None) else None),\n",
    "        \"best_params\": {\"lr\": float(best_full[\"lr\"]), \"bs\": int(best_full[\"bs\"]), \"ep\": int(best_full[\"ep\"])},\n",
    "    },\n",
    "    \"LoRA\": {\n",
    "        \"test_metrics\": lora_test,\n",
    "        \"train_time_s\": float(lora_time_s),\n",
    "        \"peak_mem_gb\": float(lora_mem_gb),\n",
    "        \"peak_vram_gb\": (float(lora_vram_gb) if ('lora_vram_gb' in globals() and lora_vram_gb is not None) else None),\n",
    "        \"best_params\": {\"lr\": float(best_lora[\"lr\"]), \"bs\": int(best_lora[\"bs\"]), \"ep\": int(best_lora[\"ep\"])},\n",
    "    },\n",
    "}\n",
    "\n",
    "with open(\"imdb_final_results.json\", \"w\") as f:\n",
    "    json.dump(final, f, indent=2)\n",
    "print(\"✅ Saved imdb_final_results.json\")\n",
    "\n",
    "summary.to_csv(\"imdb_final_summary.csv\", index=False)\n",
    "print(\"✅ Saved imdb_final_summary.csv\")"
   ]
  }
 ],
 "metadata": {
  "kernelspec": {
   "display_name": "Python 3 (ipykernel)",
   "language": "python",
   "name": "python3"
  },
  "language_info": {
   "codemirror_mode": {
    "name": "ipython",
    "version": 3
   },
   "file_extension": ".py",
   "mimetype": "text/x-python",
   "name": "python",
   "nbconvert_exporter": "python",
   "pygments_lexer": "ipython3",
   "version": "3.13.7"
  }
 },
 "nbformat": 4,
 "nbformat_minor": 5
}
